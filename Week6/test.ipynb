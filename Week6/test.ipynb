{
 "cells": [
  {
   "cell_type": "markdown",
   "metadata": {},
   "source": [
    "###  Write testutility.py file"
   ]
  },
  {
   "cell_type": "code",
   "execution_count": 1,
   "metadata": {},
   "outputs": [
    {
     "name": "stdout",
     "output_type": "stream",
     "text": [
      "Overwriting testutility.py\n"
     ]
    }
   ],
   "source": [
    "%%writefile testutility.py\n",
    "import logging\n",
    "import os\n",
    "import subprocess\n",
    "import yaml\n",
    "import pandas as pd\n",
    "import datetime \n",
    "import gc\n",
    "import re\n",
    "\n",
    "\n",
    "################\n",
    "# File Reading #\n",
    "################\n",
    "\n",
    "def read_config_file(filepath):\n",
    "    with open(filepath, 'r') as stream:\n",
    "        try:\n",
    "            return yaml.safe_load(stream)\n",
    "        except yaml.YAMLError as exc:\n",
    "            logging.error(exc)\n",
    "\n",
    "\n",
    "def replacer(string, char):\n",
    "    pattern = char + '{2,}'\n",
    "    string = re.sub(pattern, char, string) \n",
    "    return string\n",
    "\n",
    "def col_header_val(df,table_config):\n",
    "    '''\n",
    "    replace whitespaces in the column\n",
    "    and standardized column names\n",
    "    '''\n",
    "    df.columns = df.columns.str.lower()\n",
    "    df.columns = df.columns.str.replace('[^\\w]','_',regex=True)\n",
    "    df.columns = list(map(lambda x: x.strip('_'), list(df.columns)))\n",
    "    df.columns = list(map(lambda x: replacer(x,'_'), list(df.columns)))\n",
    "    expected_col = list(map(lambda x: x.lower(),  table_config['columns']))\n",
    "    expected_col.sort()\n",
    "    df.columns =list(map(lambda x: x.lower(), list(df.columns)))\n",
    "    df = df.reindex(sorted(df.columns), axis=1)\n",
    "    if len(df.columns) == len(expected_col) and list(expected_col)  == list(df.columns):\n",
    "        print(\"column name and column length validation passed\")\n",
    "        return 1\n",
    "    else:\n",
    "        print(\"column name and column length validation failed\")\n",
    "        mismatched_columns_file = list(set(df.columns).difference(expected_col))\n",
    "        print(\"Following File columns are not in the YAML file\",mismatched_columns_file)\n",
    "        missing_YAML_file = list(set(expected_col).difference(df.columns))\n",
    "        print(\"Following YAML columns are not in the file uploaded\",missing_YAML_file)\n",
    "        logging.info(f'df columns: {df.columns}')\n",
    "        logging.info(f'expected columns: {expected_col}')\n",
    "        return 0"
   ]
  },
  {
   "cell_type": "markdown",
   "metadata": {},
   "source": [
    "### Write YAML file"
   ]
  },
  {
   "cell_type": "code",
   "execution_count": 2,
   "metadata": {},
   "outputs": [
    {
     "name": "stdout",
     "output_type": "stream",
     "text": [
      "Overwriting file.yaml\n"
     ]
    }
   ],
   "source": [
    "%%writefile file.yaml\n",
    "file_type: csv\n",
    "dataset_name: dataset\n",
    "file_name: custom_1988_2020\n",
    "table_name: edsurv\n",
    "inbound_delimiter: \",\"\n",
    "outbound_delimiter: \"|\"\n",
    "skip_leading_rows: 1\n",
    "columns: \n",
    "    - yr\n",
    "    - exp_imp\n",
    "    - hs_code\n",
    "    - customs\n",
    "    - country\n",
    "    - q1\n",
    "    - q2\n",
    "    - value"
   ]
  },
  {
   "cell_type": "code",
   "execution_count": 3,
   "metadata": {},
   "outputs": [],
   "source": [
    "# Read config file\n",
    "import testutility as util\n",
    "config_data = util.read_config_file(\"file.yaml\")"
   ]
  },
  {
   "cell_type": "code",
   "execution_count": 4,
   "metadata": {},
   "outputs": [
    {
     "data": {
      "text/plain": [
       "{'file_type': 'csv',\n",
       " 'dataset_name': 'dataset',\n",
       " 'file_name': 'custom_1988_2020',\n",
       " 'table_name': 'edsurv',\n",
       " 'inbound_delimiter': ',',\n",
       " 'outbound_delimiter': '|',\n",
       " 'skip_leading_rows': 1,\n",
       " 'columns': ['yr',\n",
       "  'exp_imp',\n",
       "  'hs_code',\n",
       "  'customs',\n",
       "  'country',\n",
       "  'q1',\n",
       "  'q2',\n",
       "  'value']}"
      ]
     },
     "execution_count": 4,
     "metadata": {},
     "output_type": "execute_result"
    }
   ],
   "source": [
    "#inspecting data of config file\n",
    "config_data"
   ]
  },
  {
   "cell_type": "markdown",
   "metadata": {},
   "source": [
    "## 1st method of reading the csv file, through 'pandas' library"
   ]
  },
  {
   "cell_type": "code",
   "execution_count": 5,
   "metadata": {},
   "outputs": [
    {
     "name": "stderr",
     "output_type": "stream",
     "text": [
      "C:\\Users\\Enias\\anaconda3\\lib\\site-packages\\IPython\\core\\magics\\execution.py:1321: FutureWarning: In a future version of pandas all arguments of read_csv except for the argument 'filepath_or_buffer' will be keyword-only\n",
      "  exec(code, glob, local_ns)\n"
     ]
    },
    {
     "name": "stdout",
     "output_type": "stream",
     "text": [
      "Wall time: 1min 14s\n"
     ]
    },
    {
     "data": {
      "text/html": [
       "<div>\n",
       "<style scoped>\n",
       "    .dataframe tbody tr th:only-of-type {\n",
       "        vertical-align: middle;\n",
       "    }\n",
       "\n",
       "    .dataframe tbody tr th {\n",
       "        vertical-align: top;\n",
       "    }\n",
       "\n",
       "    .dataframe thead th {\n",
       "        text-align: right;\n",
       "    }\n",
       "</style>\n",
       "<table border=\"1\" class=\"dataframe\">\n",
       "  <thead>\n",
       "    <tr style=\"text-align: right;\">\n",
       "      <th></th>\n",
       "      <th>yr</th>\n",
       "      <th>exp_imp</th>\n",
       "      <th>hs_code</th>\n",
       "      <th>customs</th>\n",
       "      <th>country</th>\n",
       "      <th>Q1</th>\n",
       "      <th>Q2</th>\n",
       "      <th>value</th>\n",
       "    </tr>\n",
       "  </thead>\n",
       "  <tbody>\n",
       "    <tr>\n",
       "      <th>0</th>\n",
       "      <td>198801</td>\n",
       "      <td>1</td>\n",
       "      <td>103</td>\n",
       "      <td>100</td>\n",
       "      <td>190</td>\n",
       "      <td>0</td>\n",
       "      <td>35843</td>\n",
       "      <td>34353</td>\n",
       "    </tr>\n",
       "    <tr>\n",
       "      <th>1</th>\n",
       "      <td>198801</td>\n",
       "      <td>1</td>\n",
       "      <td>103</td>\n",
       "      <td>100</td>\n",
       "      <td>120991000</td>\n",
       "      <td>0</td>\n",
       "      <td>1590</td>\n",
       "      <td>4154</td>\n",
       "    </tr>\n",
       "    <tr>\n",
       "      <th>2</th>\n",
       "      <td>198801</td>\n",
       "      <td>1</td>\n",
       "      <td>103</td>\n",
       "      <td>100</td>\n",
       "      <td>210390900</td>\n",
       "      <td>0</td>\n",
       "      <td>4500</td>\n",
       "      <td>2565</td>\n",
       "    </tr>\n",
       "    <tr>\n",
       "      <th>3</th>\n",
       "      <td>198801</td>\n",
       "      <td>1</td>\n",
       "      <td>103</td>\n",
       "      <td>100</td>\n",
       "      <td>220890200</td>\n",
       "      <td>0</td>\n",
       "      <td>3000</td>\n",
       "      <td>757</td>\n",
       "    </tr>\n",
       "    <tr>\n",
       "      <th>4</th>\n",
       "      <td>198801</td>\n",
       "      <td>1</td>\n",
       "      <td>103</td>\n",
       "      <td>100</td>\n",
       "      <td>240220000</td>\n",
       "      <td>0</td>\n",
       "      <td>26000</td>\n",
       "      <td>40668</td>\n",
       "    </tr>\n",
       "  </tbody>\n",
       "</table>\n",
       "</div>"
      ],
      "text/plain": [
       "       yr  exp_imp  hs_code  customs    country  Q1     Q2  value\n",
       "0  198801        1      103      100        190   0  35843  34353\n",
       "1  198801        1      103      100  120991000   0   1590   4154\n",
       "2  198801        1      103      100  210390900   0   4500   2565\n",
       "3  198801        1      103      100  220890200   0   3000    757\n",
       "4  198801        1      103      100  240220000   0  26000  40668"
      ]
     },
     "execution_count": 5,
     "metadata": {},
     "output_type": "execute_result"
    }
   ],
   "source": [
    "# read the file using config file\n",
    "import pandas as pd\n",
    "file_type = config_data['file_type']\n",
    "source_file = \"D:/\" + config_data['file_name'] + f'.{file_type}'\n",
    "\n",
    "%time dataset = pd.read_csv(source_file,config_data['inbound_delimiter'])\n",
    "dataset.head()"
   ]
  },
  {
   "cell_type": "code",
   "execution_count": 6,
   "metadata": {},
   "outputs": [
    {
     "name": "stdout",
     "output_type": "stream",
     "text": [
      "column name and column length validation passed\n"
     ]
    },
    {
     "data": {
      "text/plain": [
       "1"
      ]
     },
     "execution_count": 6,
     "metadata": {},
     "output_type": "execute_result"
    }
   ],
   "source": [
    "#validate the header of the file\n",
    "util.col_header_val(dataset,config_data)"
   ]
  },
  {
   "cell_type": "code",
   "execution_count": 7,
   "metadata": {},
   "outputs": [
    {
     "name": "stdout",
     "output_type": "stream",
     "text": [
      "columns of csv file are: Index(['yr', 'exp_imp', 'hs_code', 'customs', 'country', 'q1', 'q2', 'value'], dtype='object')\n",
      "columns of YAML are: ['yr', 'exp_imp', 'hs_code', 'customs', 'country', 'q1', 'q2', 'value']\n"
     ]
    }
   ],
   "source": [
    "print(\"columns of csv file are:\" ,dataset.columns)\n",
    "print(\"columns of YAML are:\" ,config_data['columns'])"
   ]
  },
  {
   "cell_type": "code",
   "execution_count": 8,
   "metadata": {},
   "outputs": [
    {
     "name": "stdout",
     "output_type": "stream",
     "text": [
      "column name and column length validation passed\n",
      "col validation passed\n"
     ]
    }
   ],
   "source": [
    "if util.col_header_val(dataset,config_data)==0:\n",
    "    print(\"validation failed\")\n",
    "    os.remove(\"D:\\custom_1988_2020.csv\")\n",
    "else:\n",
    "    print(\"col validation passed\")\n",
    "    "
   ]
  },
  {
   "cell_type": "markdown",
   "metadata": {},
   "source": [
    "### Further actions after passing column validation"
   ]
  },
  {
   "cell_type": "code",
   "execution_count": 9,
   "metadata": {},
   "outputs": [
    {
     "name": "stdout",
     "output_type": "stream",
     "text": [
      "Wall time: 2.23 s\n"
     ]
    },
    {
     "data": {
      "text/plain": [
       "exp_imp\n",
       "1    69088368\n",
       "2    44518954\n",
       "Name: exp_imp, dtype: int64"
      ]
     },
     "execution_count": 9,
     "metadata": {},
     "output_type": "execute_result"
    }
   ],
   "source": [
    "%time dataset.groupby(\"exp_imp\").exp_imp.count()"
   ]
  },
  {
   "cell_type": "code",
   "execution_count": 10,
   "metadata": {},
   "outputs": [
    {
     "name": "stdout",
     "output_type": "stream",
     "text": [
      "Wall time: 111 ms\n"
     ]
    },
    {
     "data": {
      "text/plain": [
       "202012"
      ]
     },
     "execution_count": 10,
     "metadata": {},
     "output_type": "execute_result"
    }
   ],
   "source": [
    "%time dataset.yr.max()"
   ]
  },
  {
   "cell_type": "code",
   "execution_count": 11,
   "metadata": {},
   "outputs": [
    {
     "name": "stdout",
     "output_type": "stream",
     "text": [
      "Wall time: 111 ms\n"
     ]
    },
    {
     "data": {
      "text/plain": [
       "32408.302375721876"
      ]
     },
     "execution_count": 11,
     "metadata": {},
     "output_type": "execute_result"
    }
   ],
   "source": [
    "%time dataset.value.mean()"
   ]
  },
  {
   "cell_type": "code",
   "execution_count": 12,
   "metadata": {},
   "outputs": [
    {
     "name": "stdout",
     "output_type": "stream",
     "text": [
      "Wall time: 214 ms\n"
     ]
    },
    {
     "data": {
      "text/plain": [
       "376908.21176299546"
      ]
     },
     "execution_count": 12,
     "metadata": {},
     "output_type": "execute_result"
    }
   ],
   "source": [
    "%time dataset.value.std()"
   ]
  },
  {
   "cell_type": "code",
   "execution_count": 18,
   "metadata": {},
   "outputs": [
    {
     "name": "stdout",
     "output_type": "stream",
     "text": [
      "Wall time: 29.7 s\n"
     ]
    },
    {
     "data": {
      "text/html": [
       "<div>\n",
       "<style scoped>\n",
       "    .dataframe tbody tr th:only-of-type {\n",
       "        vertical-align: middle;\n",
       "    }\n",
       "\n",
       "    .dataframe tbody tr th {\n",
       "        vertical-align: top;\n",
       "    }\n",
       "\n",
       "    .dataframe thead th {\n",
       "        text-align: right;\n",
       "    }\n",
       "</style>\n",
       "<table border=\"1\" class=\"dataframe\">\n",
       "  <thead>\n",
       "    <tr style=\"text-align: right;\">\n",
       "      <th></th>\n",
       "      <th>yr</th>\n",
       "      <th>exp_imp</th>\n",
       "      <th>hs_code</th>\n",
       "      <th>customs</th>\n",
       "      <th>country</th>\n",
       "      <th>q1</th>\n",
       "      <th>q2</th>\n",
       "      <th>value</th>\n",
       "    </tr>\n",
       "  </thead>\n",
       "  <tbody>\n",
       "    <tr>\n",
       "      <th>count</th>\n",
       "      <td>1.136073e+08</td>\n",
       "      <td>1.136073e+08</td>\n",
       "      <td>1.136073e+08</td>\n",
       "      <td>1.136073e+08</td>\n",
       "      <td>1.136073e+08</td>\n",
       "      <td>1.136073e+08</td>\n",
       "      <td>1.136073e+08</td>\n",
       "      <td>1.136073e+08</td>\n",
       "    </tr>\n",
       "    <tr>\n",
       "      <th>mean</th>\n",
       "      <td>2.005126e+05</td>\n",
       "      <td>1.391867e+00</td>\n",
       "      <td>1.932035e+02</td>\n",
       "      <td>3.133187e+02</td>\n",
       "      <td>6.545763e+08</td>\n",
       "      <td>4.707675e+04</td>\n",
       "      <td>1.271670e+05</td>\n",
       "      <td>3.240830e+04</td>\n",
       "    </tr>\n",
       "    <tr>\n",
       "      <th>std</th>\n",
       "      <td>9.286563e+02</td>\n",
       "      <td>4.881672e-01</td>\n",
       "      <td>1.210249e+02</td>\n",
       "      <td>1.797740e+02</td>\n",
       "      <td>2.521764e+08</td>\n",
       "      <td>2.914592e+07</td>\n",
       "      <td>4.571867e+06</td>\n",
       "      <td>3.769082e+05</td>\n",
       "    </tr>\n",
       "    <tr>\n",
       "      <th>min</th>\n",
       "      <td>1.988010e+05</td>\n",
       "      <td>1.000000e+00</td>\n",
       "      <td>1.030000e+02</td>\n",
       "      <td>1.000000e+02</td>\n",
       "      <td>1.100000e+01</td>\n",
       "      <td>0.000000e+00</td>\n",
       "      <td>0.000000e+00</td>\n",
       "      <td>3.000000e+01</td>\n",
       "    </tr>\n",
       "    <tr>\n",
       "      <th>25%</th>\n",
       "      <td>1.997110e+05</td>\n",
       "      <td>1.000000e+00</td>\n",
       "      <td>1.060000e+02</td>\n",
       "      <td>1.040000e+02</td>\n",
       "      <td>4.016930e+08</td>\n",
       "      <td>0.000000e+00</td>\n",
       "      <td>9.800000e+01</td>\n",
       "      <td>7.200000e+02</td>\n",
       "    </tr>\n",
       "    <tr>\n",
       "      <th>50%</th>\n",
       "      <td>2.005110e+05</td>\n",
       "      <td>1.000000e+00</td>\n",
       "      <td>1.230000e+02</td>\n",
       "      <td>3.000000e+02</td>\n",
       "      <td>7.415210e+08</td>\n",
       "      <td>0.000000e+00</td>\n",
       "      <td>7.150000e+02</td>\n",
       "      <td>2.475000e+03</td>\n",
       "    </tr>\n",
       "    <tr>\n",
       "      <th>75%</th>\n",
       "      <td>2.013090e+05</td>\n",
       "      <td>2.000000e+00</td>\n",
       "      <td>2.220000e+02</td>\n",
       "      <td>4.230000e+02</td>\n",
       "      <td>8.517900e+08</td>\n",
       "      <td>7.000000e+00</td>\n",
       "      <td>6.720000e+03</td>\n",
       "      <td>1.005200e+04</td>\n",
       "    </tr>\n",
       "    <tr>\n",
       "      <th>max</th>\n",
       "      <td>2.020120e+05</td>\n",
       "      <td>2.000000e+00</td>\n",
       "      <td>7.030000e+02</td>\n",
       "      <td>9.080000e+02</td>\n",
       "      <td>9.706000e+08</td>\n",
       "      <td>1.255000e+11</td>\n",
       "      <td>1.885790e+09</td>\n",
       "      <td>1.832784e+08</td>\n",
       "    </tr>\n",
       "  </tbody>\n",
       "</table>\n",
       "</div>"
      ],
      "text/plain": [
       "                 yr       exp_imp       hs_code       customs       country  \\\n",
       "count  1.136073e+08  1.136073e+08  1.136073e+08  1.136073e+08  1.136073e+08   \n",
       "mean   2.005126e+05  1.391867e+00  1.932035e+02  3.133187e+02  6.545763e+08   \n",
       "std    9.286563e+02  4.881672e-01  1.210249e+02  1.797740e+02  2.521764e+08   \n",
       "min    1.988010e+05  1.000000e+00  1.030000e+02  1.000000e+02  1.100000e+01   \n",
       "25%    1.997110e+05  1.000000e+00  1.060000e+02  1.040000e+02  4.016930e+08   \n",
       "50%    2.005110e+05  1.000000e+00  1.230000e+02  3.000000e+02  7.415210e+08   \n",
       "75%    2.013090e+05  2.000000e+00  2.220000e+02  4.230000e+02  8.517900e+08   \n",
       "max    2.020120e+05  2.000000e+00  7.030000e+02  9.080000e+02  9.706000e+08   \n",
       "\n",
       "                 q1            q2         value  \n",
       "count  1.136073e+08  1.136073e+08  1.136073e+08  \n",
       "mean   4.707675e+04  1.271670e+05  3.240830e+04  \n",
       "std    2.914592e+07  4.571867e+06  3.769082e+05  \n",
       "min    0.000000e+00  0.000000e+00  3.000000e+01  \n",
       "25%    0.000000e+00  9.800000e+01  7.200000e+02  \n",
       "50%    0.000000e+00  7.150000e+02  2.475000e+03  \n",
       "75%    7.000000e+00  6.720000e+03  1.005200e+04  \n",
       "max    1.255000e+11  1.885790e+09  1.832784e+08  "
      ]
     },
     "execution_count": 18,
     "metadata": {},
     "output_type": "execute_result"
    }
   ],
   "source": [
    "%time dataset.describe()"
   ]
  },
  {
   "cell_type": "code",
   "execution_count": 14,
   "metadata": {},
   "outputs": [],
   "source": [
    "x = dataset.q2.values\n",
    "y = dataset.value.values"
   ]
  },
  {
   "cell_type": "code",
   "execution_count": 15,
   "metadata": {},
   "outputs": [],
   "source": [
    "x = x.reshape(len(x),1)\n",
    "y = y.reshape(len(y),1)"
   ]
  },
  {
   "cell_type": "code",
   "execution_count": 16,
   "metadata": {},
   "outputs": [],
   "source": [
    "from sklearn.linear_model import LinearRegression"
   ]
  },
  {
   "cell_type": "code",
   "execution_count": 17,
   "metadata": {},
   "outputs": [
    {
     "name": "stdout",
     "output_type": "stream",
     "text": [
      "Wall time: 5.23 s\n"
     ]
    }
   ],
   "source": [
    "%time model = LinearRegression().fit(x,y)"
   ]
  },
  {
   "cell_type": "code",
   "execution_count": 19,
   "metadata": {},
   "outputs": [
    {
     "data": {
      "text/plain": [
       "0.1824214630085732"
      ]
     },
     "execution_count": 19,
     "metadata": {},
     "output_type": "execute_result"
    }
   ],
   "source": [
    "model.score(x,y)"
   ]
  },
  {
   "cell_type": "code",
   "execution_count": 20,
   "metadata": {},
   "outputs": [
    {
     "name": "stdout",
     "output_type": "stream",
     "text": [
      "intercept: [27930.60932872]\n"
     ]
    }
   ],
   "source": [
    "print('intercept:', model.intercept_)"
   ]
  },
  {
   "cell_type": "code",
   "execution_count": 21,
   "metadata": {},
   "outputs": [
    {
     "name": "stdout",
     "output_type": "stream",
     "text": [
      "slope: [[0.03521113]]\n"
     ]
    }
   ],
   "source": [
    "print('slope:', model.coef_)"
   ]
  },
  {
   "cell_type": "markdown",
   "metadata": {},
   "source": [
    "## 2nd method of reading the csv file, through 'dask' library\n",
    "### We restart the kernel and run the first, second and third cells of the notebook again"
   ]
  },
  {
   "cell_type": "markdown",
   "metadata": {},
   "source": [
    "### Then we load the 'dask' library"
   ]
  },
  {
   "cell_type": "code",
   "execution_count": 4,
   "metadata": {},
   "outputs": [
    {
     "name": "stdout",
     "output_type": "stream",
     "text": [
      "Wall time: 15.6 ms\n"
     ]
    },
    {
     "data": {
      "text/html": [
       "<div>\n",
       "<style scoped>\n",
       "    .dataframe tbody tr th:only-of-type {\n",
       "        vertical-align: middle;\n",
       "    }\n",
       "\n",
       "    .dataframe tbody tr th {\n",
       "        vertical-align: top;\n",
       "    }\n",
       "\n",
       "    .dataframe thead th {\n",
       "        text-align: right;\n",
       "    }\n",
       "</style>\n",
       "<table border=\"1\" class=\"dataframe\">\n",
       "  <thead>\n",
       "    <tr style=\"text-align: right;\">\n",
       "      <th></th>\n",
       "      <th>yr</th>\n",
       "      <th>exp_imp</th>\n",
       "      <th>hs_code</th>\n",
       "      <th>customs</th>\n",
       "      <th>country</th>\n",
       "      <th>Q1</th>\n",
       "      <th>Q2</th>\n",
       "      <th>value</th>\n",
       "    </tr>\n",
       "  </thead>\n",
       "  <tbody>\n",
       "    <tr>\n",
       "      <th>0</th>\n",
       "      <td>198801</td>\n",
       "      <td>1</td>\n",
       "      <td>103</td>\n",
       "      <td>100</td>\n",
       "      <td>190</td>\n",
       "      <td>0</td>\n",
       "      <td>35843</td>\n",
       "      <td>34353</td>\n",
       "    </tr>\n",
       "    <tr>\n",
       "      <th>1</th>\n",
       "      <td>198801</td>\n",
       "      <td>1</td>\n",
       "      <td>103</td>\n",
       "      <td>100</td>\n",
       "      <td>120991000</td>\n",
       "      <td>0</td>\n",
       "      <td>1590</td>\n",
       "      <td>4154</td>\n",
       "    </tr>\n",
       "    <tr>\n",
       "      <th>2</th>\n",
       "      <td>198801</td>\n",
       "      <td>1</td>\n",
       "      <td>103</td>\n",
       "      <td>100</td>\n",
       "      <td>210390900</td>\n",
       "      <td>0</td>\n",
       "      <td>4500</td>\n",
       "      <td>2565</td>\n",
       "    </tr>\n",
       "    <tr>\n",
       "      <th>3</th>\n",
       "      <td>198801</td>\n",
       "      <td>1</td>\n",
       "      <td>103</td>\n",
       "      <td>100</td>\n",
       "      <td>220890200</td>\n",
       "      <td>0</td>\n",
       "      <td>3000</td>\n",
       "      <td>757</td>\n",
       "    </tr>\n",
       "    <tr>\n",
       "      <th>4</th>\n",
       "      <td>198801</td>\n",
       "      <td>1</td>\n",
       "      <td>103</td>\n",
       "      <td>100</td>\n",
       "      <td>240220000</td>\n",
       "      <td>0</td>\n",
       "      <td>26000</td>\n",
       "      <td>40668</td>\n",
       "    </tr>\n",
       "  </tbody>\n",
       "</table>\n",
       "</div>"
      ],
      "text/plain": [
       "       yr  exp_imp  hs_code  customs    country  Q1     Q2  value\n",
       "0  198801        1      103      100        190   0  35843  34353\n",
       "1  198801        1      103      100  120991000   0   1590   4154\n",
       "2  198801        1      103      100  210390900   0   4500   2565\n",
       "3  198801        1      103      100  220890200   0   3000    757\n",
       "4  198801        1      103      100  240220000   0  26000  40668"
      ]
     },
     "execution_count": 4,
     "metadata": {},
     "output_type": "execute_result"
    }
   ],
   "source": [
    "import dask.dataframe as dd\n",
    "# read the file using config file\n",
    "file_type = config_data['file_type']\n",
    "source_file = \"D:/\" + config_data['file_name'] + f'.{file_type}'\n",
    "\n",
    "%time dataset = dd.read_csv(source_file)\n",
    "dataset.head()"
   ]
  },
  {
   "cell_type": "code",
   "execution_count": 5,
   "metadata": {},
   "outputs": [
    {
     "name": "stdout",
     "output_type": "stream",
     "text": [
      "columns of csv file are: Index(['yr', 'exp_imp', 'hs_code', 'customs', 'country', 'Q1', 'Q2', 'value'], dtype='object')\n",
      "columns of YAML are: ['yr', 'exp_imp', 'hs_code', 'customs', 'country', 'q1', 'q2', 'value']\n"
     ]
    }
   ],
   "source": [
    "print(\"columns of csv file are:\" ,dataset.columns)\n",
    "print(\"columns of YAML are:\" ,config_data['columns'])"
   ]
  },
  {
   "cell_type": "markdown",
   "metadata": {},
   "source": [
    "### Further actions after passing column validation"
   ]
  },
  {
   "cell_type": "code",
   "execution_count": 6,
   "metadata": {},
   "outputs": [
    {
     "name": "stdout",
     "output_type": "stream",
     "text": [
      "Wall time: 22.9 s\n"
     ]
    },
    {
     "data": {
      "text/plain": [
       "exp_imp\n",
       "1    69088368\n",
       "2    44518954\n",
       "Name: exp_imp, dtype: int64"
      ]
     },
     "execution_count": 6,
     "metadata": {},
     "output_type": "execute_result"
    }
   ],
   "source": [
    "%time dataset.groupby(\"exp_imp\").exp_imp.count().compute()"
   ]
  },
  {
   "cell_type": "code",
   "execution_count": 7,
   "metadata": {},
   "outputs": [
    {
     "name": "stdout",
     "output_type": "stream",
     "text": [
      "Wall time: 19.4 s\n"
     ]
    },
    {
     "data": {
      "text/plain": [
       "202012"
      ]
     },
     "execution_count": 7,
     "metadata": {},
     "output_type": "execute_result"
    }
   ],
   "source": [
    "%time dataset.yr.max().compute()"
   ]
  },
  {
   "cell_type": "code",
   "execution_count": 8,
   "metadata": {},
   "outputs": [
    {
     "name": "stdout",
     "output_type": "stream",
     "text": [
      "Wall time: 19.7 s\n"
     ]
    },
    {
     "data": {
      "text/plain": [
       "32408.302375721876"
      ]
     },
     "execution_count": 8,
     "metadata": {},
     "output_type": "execute_result"
    }
   ],
   "source": [
    "%time dataset.value.mean().compute()"
   ]
  },
  {
   "cell_type": "code",
   "execution_count": 9,
   "metadata": {},
   "outputs": [
    {
     "name": "stdout",
     "output_type": "stream",
     "text": [
      "Wall time: 35.1 s\n"
     ]
    },
    {
     "data": {
      "text/html": [
       "<div>\n",
       "<style scoped>\n",
       "    .dataframe tbody tr th:only-of-type {\n",
       "        vertical-align: middle;\n",
       "    }\n",
       "\n",
       "    .dataframe tbody tr th {\n",
       "        vertical-align: top;\n",
       "    }\n",
       "\n",
       "    .dataframe thead th {\n",
       "        text-align: right;\n",
       "    }\n",
       "</style>\n",
       "<table border=\"1\" class=\"dataframe\">\n",
       "  <thead>\n",
       "    <tr style=\"text-align: right;\">\n",
       "      <th></th>\n",
       "      <th>yr</th>\n",
       "      <th>exp_imp</th>\n",
       "      <th>hs_code</th>\n",
       "      <th>customs</th>\n",
       "      <th>country</th>\n",
       "      <th>Q1</th>\n",
       "      <th>Q2</th>\n",
       "      <th>value</th>\n",
       "    </tr>\n",
       "  </thead>\n",
       "  <tbody>\n",
       "    <tr>\n",
       "      <th>count</th>\n",
       "      <td>1.136073e+08</td>\n",
       "      <td>1.136073e+08</td>\n",
       "      <td>1.136073e+08</td>\n",
       "      <td>1.136073e+08</td>\n",
       "      <td>1.136073e+08</td>\n",
       "      <td>1.136073e+08</td>\n",
       "      <td>1.136073e+08</td>\n",
       "      <td>1.136073e+08</td>\n",
       "    </tr>\n",
       "    <tr>\n",
       "      <th>mean</th>\n",
       "      <td>2.005126e+05</td>\n",
       "      <td>1.391867e+00</td>\n",
       "      <td>1.932035e+02</td>\n",
       "      <td>3.133187e+02</td>\n",
       "      <td>6.545763e+08</td>\n",
       "      <td>4.707675e+04</td>\n",
       "      <td>1.271670e+05</td>\n",
       "      <td>3.240830e+04</td>\n",
       "    </tr>\n",
       "    <tr>\n",
       "      <th>std</th>\n",
       "      <td>9.286563e+02</td>\n",
       "      <td>4.881672e-01</td>\n",
       "      <td>1.210249e+02</td>\n",
       "      <td>1.797740e+02</td>\n",
       "      <td>2.521764e+08</td>\n",
       "      <td>2.914592e+07</td>\n",
       "      <td>4.571867e+06</td>\n",
       "      <td>3.769082e+05</td>\n",
       "    </tr>\n",
       "    <tr>\n",
       "      <th>min</th>\n",
       "      <td>1.988010e+05</td>\n",
       "      <td>1.000000e+00</td>\n",
       "      <td>1.030000e+02</td>\n",
       "      <td>1.000000e+02</td>\n",
       "      <td>1.100000e+01</td>\n",
       "      <td>0.000000e+00</td>\n",
       "      <td>0.000000e+00</td>\n",
       "      <td>3.000000e+01</td>\n",
       "    </tr>\n",
       "    <tr>\n",
       "      <th>25%</th>\n",
       "      <td>1.997100e+05</td>\n",
       "      <td>1.000000e+00</td>\n",
       "      <td>1.110000e+02</td>\n",
       "      <td>1.040000e+02</td>\n",
       "      <td>4.820109e+08</td>\n",
       "      <td>0.000000e+00</td>\n",
       "      <td>1.160000e+02</td>\n",
       "      <td>7.690000e+02</td>\n",
       "    </tr>\n",
       "    <tr>\n",
       "      <th>50%</th>\n",
       "      <td>2.005110e+05</td>\n",
       "      <td>1.000000e+00</td>\n",
       "      <td>2.050000e+02</td>\n",
       "      <td>3.030000e+02</td>\n",
       "      <td>8.307100e+08</td>\n",
       "      <td>0.000000e+00</td>\n",
       "      <td>9.210000e+02</td>\n",
       "      <td>2.804000e+03</td>\n",
       "    </tr>\n",
       "    <tr>\n",
       "      <th>75%</th>\n",
       "      <td>2.013080e+05</td>\n",
       "      <td>2.000000e+00</td>\n",
       "      <td>3.020000e+02</td>\n",
       "      <td>5.000000e+02</td>\n",
       "      <td>8.526919e+08</td>\n",
       "      <td>2.600000e+01</td>\n",
       "      <td>9.000000e+03</td>\n",
       "      <td>1.208000e+04</td>\n",
       "    </tr>\n",
       "    <tr>\n",
       "      <th>max</th>\n",
       "      <td>2.020120e+05</td>\n",
       "      <td>2.000000e+00</td>\n",
       "      <td>7.030000e+02</td>\n",
       "      <td>9.080000e+02</td>\n",
       "      <td>9.706000e+08</td>\n",
       "      <td>1.255000e+11</td>\n",
       "      <td>1.885790e+09</td>\n",
       "      <td>1.832784e+08</td>\n",
       "    </tr>\n",
       "  </tbody>\n",
       "</table>\n",
       "</div>"
      ],
      "text/plain": [
       "                 yr       exp_imp       hs_code       customs       country  \\\n",
       "count  1.136073e+08  1.136073e+08  1.136073e+08  1.136073e+08  1.136073e+08   \n",
       "mean   2.005126e+05  1.391867e+00  1.932035e+02  3.133187e+02  6.545763e+08   \n",
       "std    9.286563e+02  4.881672e-01  1.210249e+02  1.797740e+02  2.521764e+08   \n",
       "min    1.988010e+05  1.000000e+00  1.030000e+02  1.000000e+02  1.100000e+01   \n",
       "25%    1.997100e+05  1.000000e+00  1.110000e+02  1.040000e+02  4.820109e+08   \n",
       "50%    2.005110e+05  1.000000e+00  2.050000e+02  3.030000e+02  8.307100e+08   \n",
       "75%    2.013080e+05  2.000000e+00  3.020000e+02  5.000000e+02  8.526919e+08   \n",
       "max    2.020120e+05  2.000000e+00  7.030000e+02  9.080000e+02  9.706000e+08   \n",
       "\n",
       "                 Q1            Q2         value  \n",
       "count  1.136073e+08  1.136073e+08  1.136073e+08  \n",
       "mean   4.707675e+04  1.271670e+05  3.240830e+04  \n",
       "std    2.914592e+07  4.571867e+06  3.769082e+05  \n",
       "min    0.000000e+00  0.000000e+00  3.000000e+01  \n",
       "25%    0.000000e+00  1.160000e+02  7.690000e+02  \n",
       "50%    0.000000e+00  9.210000e+02  2.804000e+03  \n",
       "75%    2.600000e+01  9.000000e+03  1.208000e+04  \n",
       "max    1.255000e+11  1.885790e+09  1.832784e+08  "
      ]
     },
     "execution_count": 9,
     "metadata": {},
     "output_type": "execute_result"
    }
   ],
   "source": [
    "%time dataset.describe().compute()"
   ]
  },
  {
   "cell_type": "code",
   "execution_count": 6,
   "metadata": {},
   "outputs": [],
   "source": [
    "from dask_ml.linear_model import LinearRegression"
   ]
  },
  {
   "cell_type": "code",
   "execution_count": 13,
   "metadata": {},
   "outputs": [],
   "source": [
    "from dask_glm.datasets import make_regression"
   ]
  },
  {
   "cell_type": "code",
   "execution_count": null,
   "metadata": {},
   "outputs": [],
   "source": [
    "model = LinearRegression()"
   ]
  },
  {
   "cell_type": "code",
   "execution_count": 8,
   "metadata": {},
   "outputs": [],
   "source": [
    "x = dataset.Q2.values\n",
    "y = dataset.value.values"
   ]
  },
  {
   "cell_type": "code",
   "execution_count": 16,
   "metadata": {},
   "outputs": [],
   "source": [
    "x,y = make_regression()"
   ]
  },
  {
   "cell_type": "code",
   "execution_count": 21,
   "metadata": {},
   "outputs": [
    {
     "name": "stdout",
     "output_type": "stream",
     "text": [
      "Wall time: 22.5 s\n"
     ]
    }
   ],
   "source": [
    "%time model = LinearRegression().fit(x,y)"
   ]
  },
  {
   "cell_type": "markdown",
   "metadata": {},
   "source": [
    "## 3rd method of reading the csv file, through 'modin' library\n",
    "### We restart the kernel and run the first, second and third cells of the notebook again\n",
    "### Then we load the 'modin' library"
   ]
  },
  {
   "cell_type": "code",
   "execution_count": 4,
   "metadata": {},
   "outputs": [
    {
     "name": "stdout",
     "output_type": "stream",
     "text": [
      "Wall time: 52.7 s\n"
     ]
    },
    {
     "data": {
      "text/html": [
       "<div>\n",
       "<style scoped>\n",
       "    .dataframe tbody tr th:only-of-type {\n",
       "        vertical-align: middle;\n",
       "    }\n",
       "\n",
       "    .dataframe tbody tr th {\n",
       "        vertical-align: top;\n",
       "    }\n",
       "\n",
       "    .dataframe thead th {\n",
       "        text-align: right;\n",
       "    }\n",
       "</style>\n",
       "<table border=\"1\" class=\"dataframe\">\n",
       "  <thead>\n",
       "    <tr style=\"text-align: right;\">\n",
       "      <th></th>\n",
       "      <th>yr</th>\n",
       "      <th>exp_imp</th>\n",
       "      <th>hs_code</th>\n",
       "      <th>customs</th>\n",
       "      <th>country</th>\n",
       "      <th>Q1</th>\n",
       "      <th>Q2</th>\n",
       "      <th>value</th>\n",
       "    </tr>\n",
       "  </thead>\n",
       "  <tbody>\n",
       "    <tr>\n",
       "      <th>0</th>\n",
       "      <td>198801</td>\n",
       "      <td>1</td>\n",
       "      <td>103</td>\n",
       "      <td>100</td>\n",
       "      <td>190</td>\n",
       "      <td>0</td>\n",
       "      <td>35843</td>\n",
       "      <td>34353</td>\n",
       "    </tr>\n",
       "    <tr>\n",
       "      <th>1</th>\n",
       "      <td>198801</td>\n",
       "      <td>1</td>\n",
       "      <td>103</td>\n",
       "      <td>100</td>\n",
       "      <td>120991000</td>\n",
       "      <td>0</td>\n",
       "      <td>1590</td>\n",
       "      <td>4154</td>\n",
       "    </tr>\n",
       "    <tr>\n",
       "      <th>2</th>\n",
       "      <td>198801</td>\n",
       "      <td>1</td>\n",
       "      <td>103</td>\n",
       "      <td>100</td>\n",
       "      <td>210390900</td>\n",
       "      <td>0</td>\n",
       "      <td>4500</td>\n",
       "      <td>2565</td>\n",
       "    </tr>\n",
       "    <tr>\n",
       "      <th>3</th>\n",
       "      <td>198801</td>\n",
       "      <td>1</td>\n",
       "      <td>103</td>\n",
       "      <td>100</td>\n",
       "      <td>220890200</td>\n",
       "      <td>0</td>\n",
       "      <td>3000</td>\n",
       "      <td>757</td>\n",
       "    </tr>\n",
       "    <tr>\n",
       "      <th>4</th>\n",
       "      <td>198801</td>\n",
       "      <td>1</td>\n",
       "      <td>103</td>\n",
       "      <td>100</td>\n",
       "      <td>240220000</td>\n",
       "      <td>0</td>\n",
       "      <td>26000</td>\n",
       "      <td>40668</td>\n",
       "    </tr>\n",
       "  </tbody>\n",
       "</table>\n",
       "</div>"
      ],
      "text/plain": [
       "       yr  exp_imp  hs_code  customs    country  Q1     Q2  value\n",
       "0  198801        1      103      100        190   0  35843  34353\n",
       "1  198801        1      103      100  120991000   0   1590   4154\n",
       "2  198801        1      103      100  210390900   0   4500   2565\n",
       "3  198801        1      103      100  220890200   0   3000    757\n",
       "4  198801        1      103      100  240220000   0  26000  40668"
      ]
     },
     "execution_count": 4,
     "metadata": {},
     "output_type": "execute_result"
    }
   ],
   "source": [
    "from dask.distributed import Client\n",
    "\n",
    "# set up cluster and workers\n",
    "client = Client(n_workers=4, \n",
    "                threads_per_worker=1,\n",
    "                memory_limit='12GB')\n",
    "\n",
    "import modin.pandas as mpd\n",
    "# read the file using config file\n",
    "file_type = config_data['file_type']\n",
    "source_file = \"D:/\" + config_data['file_name'] + f'.{file_type}'\n",
    "\n",
    "%time dataset = mpd.read_csv(source_file,config_data['inbound_delimiter'])\n",
    "dataset.head()"
   ]
  },
  {
   "cell_type": "markdown",
   "metadata": {},
   "source": [
    "### Further actions after passing column validation"
   ]
  },
  {
   "cell_type": "code",
   "execution_count": 5,
   "metadata": {},
   "outputs": [
    {
     "name": "stdout",
     "output_type": "stream",
     "text": [
      "Wall time: 8.31 s\n"
     ]
    },
    {
     "data": {
      "text/plain": [
       "exp_imp\n",
       "1    69088368\n",
       "2    44518954\n",
       "Name: exp_imp, dtype: int64"
      ]
     },
     "execution_count": 5,
     "metadata": {},
     "output_type": "execute_result"
    }
   ],
   "source": [
    "%time dataset.groupby(\"exp_imp\").exp_imp.count()"
   ]
  },
  {
   "cell_type": "code",
   "execution_count": 6,
   "metadata": {},
   "outputs": [
    {
     "name": "stdout",
     "output_type": "stream",
     "text": [
      "Wall time: 1.63 s\n"
     ]
    },
    {
     "data": {
      "text/plain": [
       "202012"
      ]
     },
     "execution_count": 6,
     "metadata": {},
     "output_type": "execute_result"
    }
   ],
   "source": [
    "%time dataset.yr.max()"
   ]
  },
  {
   "cell_type": "code",
   "execution_count": 7,
   "metadata": {},
   "outputs": [
    {
     "name": "stdout",
     "output_type": "stream",
     "text": [
      "Wall time: 3.03 s\n"
     ]
    },
    {
     "data": {
      "text/plain": [
       "32408.302375721876"
      ]
     },
     "execution_count": 7,
     "metadata": {},
     "output_type": "execute_result"
    }
   ],
   "source": [
    "%time dataset.value.mean()"
   ]
  },
  {
   "cell_type": "code",
   "execution_count": 8,
   "metadata": {},
   "outputs": [
    {
     "name": "stdout",
     "output_type": "stream",
     "text": [
      "Wall time: 3.05 s\n"
     ]
    },
    {
     "data": {
      "text/plain": [
       "376908.21176299546"
      ]
     },
     "execution_count": 8,
     "metadata": {},
     "output_type": "execute_result"
    }
   ],
   "source": [
    "%time dataset.value.std()"
   ]
  },
  {
   "cell_type": "code",
   "execution_count": 9,
   "metadata": {},
   "outputs": [],
   "source": [
    "x = dataset[\"Q2\"].values\n",
    "y = dataset[\"value\"].values"
   ]
  },
  {
   "cell_type": "code",
   "execution_count": 10,
   "metadata": {},
   "outputs": [],
   "source": [
    "x = x.reshape(len(x),1)\n",
    "y = y.reshape(len(y),1)"
   ]
  },
  {
   "cell_type": "code",
   "execution_count": 11,
   "metadata": {},
   "outputs": [
    {
     "name": "stdout",
     "output_type": "stream",
     "text": [
      "Wall time: 4.17 s\n"
     ]
    }
   ],
   "source": [
    "from sklearn.linear_model import LinearRegression\n",
    "\n",
    "%time model = LinearRegression().fit(x,y)\n"
   ]
  },
  {
   "cell_type": "code",
   "execution_count": 12,
   "metadata": {},
   "outputs": [
    {
     "name": "stdout",
     "output_type": "stream",
     "text": [
      "intercept: [27930.60932872]\n"
     ]
    }
   ],
   "source": [
    "print('intercept:', model.intercept_)"
   ]
  },
  {
   "cell_type": "code",
   "execution_count": 13,
   "metadata": {},
   "outputs": [
    {
     "name": "stdout",
     "output_type": "stream",
     "text": [
      "slope: [[0.03521113]]\n"
     ]
    }
   ],
   "source": [
    "print('slope:', model.coef_)"
   ]
  },
  {
   "cell_type": "code",
   "execution_count": null,
   "metadata": {},
   "outputs": [],
   "source": [
    "# dataset.describe()"
   ]
  },
  {
   "cell_type": "markdown",
   "metadata": {},
   "source": [
    "## 4th method of reading the csv file, through 'vaex' library\n",
    "### We restart the kernel and run the first, second and third cells of the notebook again\n",
    "### Then we load the 'vaex' library"
   ]
  },
  {
   "cell_type": "code",
   "execution_count": 4,
   "metadata": {},
   "outputs": [],
   "source": [
    "import vaex\n"
   ]
  },
  {
   "cell_type": "code",
   "execution_count": 5,
   "metadata": {},
   "outputs": [
    {
     "data": {
      "text/plain": [
       "'D:/custom_1988_2020.csv'"
      ]
     },
     "execution_count": 5,
     "metadata": {},
     "output_type": "execute_result"
    }
   ],
   "source": [
    "file_type = config_data['file_type']\n",
    "source_file = \"D:/\" + config_data['file_name'] + f'.{file_type}'\n",
    "\n",
    "source_file"
   ]
  },
  {
   "cell_type": "code",
   "execution_count": 6,
   "metadata": {},
   "outputs": [
    {
     "name": "stdout",
     "output_type": "stream",
     "text": [
      "Wall time: 1min 27s\n"
     ]
    }
   ],
   "source": [
    "%time dataset = vaex.from_csv(source_file,config_data['inbound_delimiter'])"
   ]
  },
  {
   "cell_type": "code",
   "execution_count": 7,
   "metadata": {},
   "outputs": [
    {
     "name": "stdout",
     "output_type": "stream",
     "text": [
      "Wall time: 387 ms\n"
     ]
    },
    {
     "data": {
      "text/html": [
       "<table>\n",
       "<thead>\n",
       "<tr><th>#                            </th><th style=\"text-align: right;\">  exp_imp</th><th style=\"text-align: right;\">  exp_imp_count</th></tr>\n",
       "</thead>\n",
       "<tbody>\n",
       "<tr><td><i style='opacity: 0.6'>0</i></td><td style=\"text-align: right;\">        1</td><td style=\"text-align: right;\">       69088368</td></tr>\n",
       "<tr><td><i style='opacity: 0.6'>1</i></td><td style=\"text-align: right;\">        2</td><td style=\"text-align: right;\">       44518954</td></tr>\n",
       "</tbody>\n",
       "</table>"
      ],
      "text/plain": [
       "  #    exp_imp    exp_imp_count\n",
       "  0          1         69088368\n",
       "  1          2         44518954"
      ]
     },
     "execution_count": 7,
     "metadata": {},
     "output_type": "execute_result"
    }
   ],
   "source": [
    "%time dataset.groupby('exp_imp' , agg=[vaex.agg.count(dataset.exp_imp)])"
   ]
  },
  {
   "cell_type": "code",
   "execution_count": 8,
   "metadata": {},
   "outputs": [
    {
     "name": "stdout",
     "output_type": "stream",
     "text": [
      "Wall time: 111 ms\n"
     ]
    },
    {
     "data": {
      "text/plain": [
       "array(202012, dtype=int64)"
      ]
     },
     "execution_count": 8,
     "metadata": {},
     "output_type": "execute_result"
    }
   ],
   "source": [
    "%time dataset.yr.max()"
   ]
  },
  {
   "cell_type": "code",
   "execution_count": 9,
   "metadata": {},
   "outputs": [
    {
     "name": "stdout",
     "output_type": "stream",
     "text": [
      "Wall time: 245 ms\n"
     ]
    },
    {
     "data": {
      "text/plain": [
       "array(32408.30237572)"
      ]
     },
     "execution_count": 9,
     "metadata": {},
     "output_type": "execute_result"
    }
   ],
   "source": [
    "%time dataset.value.mean()"
   ]
  },
  {
   "cell_type": "code",
   "execution_count": 10,
   "metadata": {},
   "outputs": [
    {
     "name": "stdout",
     "output_type": "stream",
     "text": [
      "Wall time: 660 ms\n"
     ]
    },
    {
     "data": {
      "text/plain": [
       "376908.21010742965"
      ]
     },
     "execution_count": 10,
     "metadata": {},
     "output_type": "execute_result"
    }
   ],
   "source": [
    "%time dataset.value.std()"
   ]
  },
  {
   "cell_type": "code",
   "execution_count": 11,
   "metadata": {},
   "outputs": [
    {
     "name": "stdout",
     "output_type": "stream",
     "text": [
      "Wall time: 7.47 s\n"
     ]
    },
    {
     "data": {
      "text/html": [
       "<div>\n",
       "<style scoped>\n",
       "    .dataframe tbody tr th:only-of-type {\n",
       "        vertical-align: middle;\n",
       "    }\n",
       "\n",
       "    .dataframe tbody tr th {\n",
       "        vertical-align: top;\n",
       "    }\n",
       "\n",
       "    .dataframe thead th {\n",
       "        text-align: right;\n",
       "    }\n",
       "</style>\n",
       "<table border=\"1\" class=\"dataframe\">\n",
       "  <thead>\n",
       "    <tr style=\"text-align: right;\">\n",
       "      <th></th>\n",
       "      <th>yr</th>\n",
       "      <th>exp_imp</th>\n",
       "      <th>hs_code</th>\n",
       "      <th>customs</th>\n",
       "      <th>country</th>\n",
       "      <th>Q1</th>\n",
       "      <th>Q2</th>\n",
       "      <th>value</th>\n",
       "      <th>index</th>\n",
       "    </tr>\n",
       "  </thead>\n",
       "  <tbody>\n",
       "    <tr>\n",
       "      <th>data_type</th>\n",
       "      <td>int64</td>\n",
       "      <td>int64</td>\n",
       "      <td>int64</td>\n",
       "      <td>int64</td>\n",
       "      <td>int64</td>\n",
       "      <td>int64</td>\n",
       "      <td>int64</td>\n",
       "      <td>int64</td>\n",
       "      <td>int64</td>\n",
       "    </tr>\n",
       "    <tr>\n",
       "      <th>count</th>\n",
       "      <td>113607322</td>\n",
       "      <td>113607322</td>\n",
       "      <td>113607322</td>\n",
       "      <td>113607322</td>\n",
       "      <td>113607322</td>\n",
       "      <td>113607322</td>\n",
       "      <td>113607322</td>\n",
       "      <td>113607322</td>\n",
       "      <td>113607322</td>\n",
       "    </tr>\n",
       "    <tr>\n",
       "      <th>NA</th>\n",
       "      <td>0</td>\n",
       "      <td>0</td>\n",
       "      <td>0</td>\n",
       "      <td>0</td>\n",
       "      <td>0</td>\n",
       "      <td>0</td>\n",
       "      <td>0</td>\n",
       "      <td>0</td>\n",
       "      <td>0</td>\n",
       "    </tr>\n",
       "    <tr>\n",
       "      <th>mean</th>\n",
       "      <td>200512.6231617008</td>\n",
       "      <td>1.3918669432239588</td>\n",
       "      <td>193.20352292962244</td>\n",
       "      <td>313.31866609794747</td>\n",
       "      <td>654576293.6521226</td>\n",
       "      <td>47076.754848697165</td>\n",
       "      <td>127166.98737165902</td>\n",
       "      <td>32408.302375721876</td>\n",
       "      <td>56803660.5</td>\n",
       "    </tr>\n",
       "    <tr>\n",
       "      <th>std</th>\n",
       "      <td>928.656401</td>\n",
       "      <td>0.488167</td>\n",
       "      <td>121.024864</td>\n",
       "      <td>179.77396</td>\n",
       "      <td>252176352.235584</td>\n",
       "      <td>29145919.720134</td>\n",
       "      <td>4571867.433452</td>\n",
       "      <td>376908.210107</td>\n",
       "      <td>32795608.969313</td>\n",
       "    </tr>\n",
       "    <tr>\n",
       "      <th>min</th>\n",
       "      <td>198801</td>\n",
       "      <td>1</td>\n",
       "      <td>103</td>\n",
       "      <td>100</td>\n",
       "      <td>11</td>\n",
       "      <td>0</td>\n",
       "      <td>0</td>\n",
       "      <td>30</td>\n",
       "      <td>0</td>\n",
       "    </tr>\n",
       "    <tr>\n",
       "      <th>max</th>\n",
       "      <td>202012</td>\n",
       "      <td>2</td>\n",
       "      <td>703</td>\n",
       "      <td>908</td>\n",
       "      <td>970600000</td>\n",
       "      <td>125500000000</td>\n",
       "      <td>1885789678</td>\n",
       "      <td>183278402</td>\n",
       "      <td>113607321</td>\n",
       "    </tr>\n",
       "  </tbody>\n",
       "</table>\n",
       "</div>"
      ],
      "text/plain": [
       "                          yr             exp_imp             hs_code  \\\n",
       "data_type              int64               int64               int64   \n",
       "count              113607322           113607322           113607322   \n",
       "NA                         0                   0                   0   \n",
       "mean       200512.6231617008  1.3918669432239588  193.20352292962244   \n",
       "std               928.656401            0.488167          121.024864   \n",
       "min                   198801                   1                 103   \n",
       "max                   202012                   2                 703   \n",
       "\n",
       "                      customs            country                  Q1  \\\n",
       "data_type               int64              int64               int64   \n",
       "count               113607322          113607322           113607322   \n",
       "NA                          0                  0                   0   \n",
       "mean       313.31866609794747  654576293.6521226  47076.754848697165   \n",
       "std                 179.77396   252176352.235584     29145919.720134   \n",
       "min                       100                 11                   0   \n",
       "max                       908          970600000        125500000000   \n",
       "\n",
       "                           Q2               value            index  \n",
       "data_type               int64               int64            int64  \n",
       "count               113607322           113607322        113607322  \n",
       "NA                          0                   0                0  \n",
       "mean       127166.98737165902  32408.302375721876       56803660.5  \n",
       "std            4571867.433452       376908.210107  32795608.969313  \n",
       "min                         0                  30                0  \n",
       "max                1885789678           183278402        113607321  "
      ]
     },
     "execution_count": 11,
     "metadata": {},
     "output_type": "execute_result"
    }
   ],
   "source": [
    "%time dataset.describe()"
   ]
  },
  {
   "cell_type": "code",
   "execution_count": 12,
   "metadata": {},
   "outputs": [],
   "source": [
    "import vaex.ml\n",
    "from vaex.ml.sklearn import Predictor\n",
    "from sklearn.linear_model import LinearRegression"
   ]
  },
  {
   "cell_type": "code",
   "execution_count": 13,
   "metadata": {},
   "outputs": [],
   "source": [
    "features = ['Q2']\n",
    "model = Predictor(model=LinearRegression(), features=features, target='value', prediction_name='pred')"
   ]
  },
  {
   "cell_type": "code",
   "execution_count": 14,
   "metadata": {},
   "outputs": [
    {
     "name": "stdout",
     "output_type": "stream",
     "text": [
      "Wall time: 5.16 s\n"
     ]
    }
   ],
   "source": [
    "%time model = model.fit(dataset)"
   ]
  },
  {
   "cell_type": "markdown",
   "metadata": {},
   "source": [
    "### It is interesting to note how faster 'vaex' library would be if the file was in '.hdf5' format, as we can see below"
   ]
  },
  {
   "cell_type": "code",
   "execution_count": 15,
   "metadata": {},
   "outputs": [
    {
     "name": "stdout",
     "output_type": "stream",
     "text": [
      "Wall time: 1.66 s\n"
     ]
    }
   ],
   "source": [
    "%time dataset =  vaex.open('D:\\custom_1988_2020.csv.hdf5')"
   ]
  },
  {
   "cell_type": "markdown",
   "metadata": {},
   "source": [
    "## Write the file in pipe delimited format"
   ]
  },
  {
   "cell_type": "code",
   "execution_count": null,
   "metadata": {},
   "outputs": [],
   "source": [
    "dataset.to_csv(r\"D:\\custom_1988_2020.txt\",sep=\"|\",index=False)"
   ]
  },
  {
   "cell_type": "markdown",
   "metadata": {},
   "source": [
    "## Save the file in gz format"
   ]
  },
  {
   "cell_type": "code",
   "execution_count": null,
   "metadata": {},
   "outputs": [],
   "source": [
    "import gzip\n",
    "with open(r\"D:\\custom_1988_2020.txt\", 'rb') as f_in, gzip.open(r\"D:\\custom_1988_2020.txt.gz\", 'wb') as f_out:\n",
    "    f_out.writelines(f_in)"
   ]
  },
  {
   "cell_type": "code",
   "execution_count": null,
   "metadata": {},
   "outputs": [],
   "source": []
  }
 ],
 "metadata": {
  "environment": {
   "name": "tf2-gpu.2-1.m65",
   "type": "gcloud",
   "uri": "gcr.io/deeplearning-platform-release/tf2-gpu.2-1:m65"
  },
  "kernelspec": {
   "display_name": "Python 3",
   "language": "python",
   "name": "python3"
  },
  "language_info": {
   "codemirror_mode": {
    "name": "ipython",
    "version": 3
   },
   "file_extension": ".py",
   "mimetype": "text/x-python",
   "name": "python",
   "nbconvert_exporter": "python",
   "pygments_lexer": "ipython3",
   "version": "3.8.5"
  }
 },
 "nbformat": 4,
 "nbformat_minor": 5
}

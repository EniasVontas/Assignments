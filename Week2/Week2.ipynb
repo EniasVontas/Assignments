{
 "cells": [
  {
   "cell_type": "markdown",
   "metadata": {},
   "source": [
    "# Exploratory Data Analysis for 'Yellow' and 'Pink' Cab Companies\n",
    "## G2M Case Study for the two Cab Companies"
   ]
  },
  {
   "cell_type": "markdown",
   "metadata": {},
   "source": [
    "### In Total We Have 4 Datasets\n",
    "\n",
    "The First One Containing\n",
    "* Date of Travel\n",
    "* Company (Pink Cab, or Yellow Cab)\n",
    "* Kilometers Travelled per Trip\n",
    "* Price Charged per Trip\n",
    "* Cost of Trip\n",
    "* Transaction ID\n",
    "\n",
    "The Second One Containing\n",
    "\n",
    "* Gender of Customer\n",
    "* Age of Customer\n",
    "* Income (USD/Month)\n",
    "* Customer ID\n",
    "\n",
    "The Third One Containing \n",
    "\n",
    "* Mode of Payment for Each Trip\n",
    "* Customer ID\n",
    "* Transaction ID\n",
    "\n",
    "The Fourth One Containing \n",
    "\n",
    "* Names of 20 Cities \n",
    "* Population of Each City\n",
    "* Number of Cab Users for Each City "
   ]
  },
  {
   "cell_type": "markdown",
   "metadata": {},
   "source": [
    "#### We begin by seting up the notebook and importing the tools we will need"
   ]
  },
  {
   "cell_type": "code",
   "execution_count": null,
   "metadata": {},
   "outputs": [],
   "source": [
    "import numpy as np\n",
    "import matplotlib.pyplot as plt\n",
    "import matplotlib.ticker as ticker\n",
    "from matplotlib.ticker import FuncFormatter\n",
    "import pandas as pd\n",
    "import datetime as dt"
   ]
  },
  {
   "cell_type": "markdown",
   "metadata": {},
   "source": [
    "#### We define the working directory and load the first dataset"
   ]
  },
  {
   "cell_type": "code",
   "execution_count": null,
   "metadata": {},
   "outputs": [],
   "source": [
    "dataset = pd.read_csv(\"https://raw.githubusercontent.com/EniasVontas/DataSets/main/Cab_Data.csv\")\n",
    "dataset.dtypes"
   ]
  },
  {
   "cell_type": "markdown",
   "metadata": {},
   "source": [
    "##### Date of Travel is an integer and refers to the distance from the date (1899/12/30) the excel files use as origin date\n",
    "##### We convert it and select only dates from 2016/12/31 until 2018/12/31. We verify the result"
   ]
  },
  {
   "cell_type": "code",
   "execution_count": null,
   "metadata": {},
   "outputs": [],
   "source": [
    "dataset['Date of Travel']= pd.TimedeltaIndex(dataset['Date of Travel'], unit='d') + dt.datetime(1899, 12, 30)\n",
    "dataset = dataset[dataset['Date of Travel'] > '2016-01-30 00:00:00']"
   ]
  },
  {
   "cell_type": "code",
   "execution_count": null,
   "metadata": {},
   "outputs": [],
   "source": [
    "dataset['Date of Travel'].min(), dataset['Date of Travel'].max()"
   ]
  },
  {
   "cell_type": "markdown",
   "metadata": {},
   "source": [
    "##### We extract the year, month, day and weekday from 'Date of Travel' column"
   ]
  },
  {
   "cell_type": "code",
   "execution_count": null,
   "metadata": {},
   "outputs": [],
   "source": [
    "dataset['year'] = dataset['Date of Travel'].dt.year\n",
    "dataset['month'] = dataset['Date of Travel'].dt.month\n",
    "dataset['day'] = dataset[\"Date of Travel\"].dt.day\n",
    "\n",
    "dayOfWeek={0:'Monday', 1:'Tuesday', 2:'Wednesday', 3:'Thursday', 4:'Friday', 5:'Saturday', 6:'Sunday'}\n",
    "dataset['weekday'] = dataset['Date of Travel'].dt.dayofweek.map(dayOfWeek)"
   ]
  },
  {
   "cell_type": "markdown",
   "metadata": {},
   "source": [
    "#### We load the rest of the datasets"
   ]
  },
  {
   "cell_type": "code",
   "execution_count": null,
   "metadata": {},
   "outputs": [],
   "source": [
    "df_customers = pd.read_csv(\"https://raw.githubusercontent.com/EniasVontas/DataSets/main/Customer_ID.csv\")\n",
    "df_transactions = pd.read_csv(\"https://raw.githubusercontent.com/EniasVontas/DataSets/main/Transaction_ID.csv\")"
   ]
  },
  {
   "cell_type": "markdown",
   "metadata": {},
   "source": [
    "#### We merge the Customer_ID and the Transaction_ID datasets on 'Customer_ID' key \n",
    "#### We do this because we want to keep records of customers for each of the transactions we have"
   ]
  },
  {
   "cell_type": "code",
   "execution_count": null,
   "metadata": {},
   "outputs": [],
   "source": [
    "df = pd.merge(df_customers, df_transactions, on=\"Customer ID\")"
   ]
  },
  {
   "cell_type": "markdown",
   "metadata": {},
   "source": [
    "#### Next we merge our dataset with the already merged datasets on 'Transaction_ID' key and compute the Profit Column for each Transaction"
   ]
  },
  {
   "cell_type": "code",
   "execution_count": null,
   "metadata": {},
   "outputs": [],
   "source": [
    "dataset = pd.merge(dataset,df,on=\"Transaction ID\")\n",
    "\n",
    "dataset['Profit'] = dataset['Price Charged'] - dataset['Cost of Trip']"
   ]
  },
  {
   "cell_type": "markdown",
   "metadata": {},
   "source": [
    "##### We load the Cities dataset and replace the \" , \" that is in the numbers as they are perceived as objects in python"
   ]
  },
  {
   "cell_type": "code",
   "execution_count": null,
   "metadata": {},
   "outputs": [],
   "source": [
    "df_cities = pd.read_csv(\"https://raw.githubusercontent.com/EniasVontas/DataSets/main/City.csv\")\n",
    "\n",
    "df_cities[\"Population\"] = df_cities.Population.str.replace(\",\" , \"\")\n",
    "df_cities[\"Users\"] = df_cities.Users.str.replace(\",\" , \"\")"
   ]
  },
  {
   "cell_type": "markdown",
   "metadata": {},
   "source": [
    "##### We modify the two columns to be perceived as integers from python"
   ]
  },
  {
   "cell_type": "code",
   "execution_count": null,
   "metadata": {},
   "outputs": [],
   "source": [
    "df_cities[\"Users\"] = df_cities[\"Users\"].astype(str).astype(int)\n",
    "df_cities[\"Population\"] = df_cities[\"Population\"].astype(str).astype(int)"
   ]
  },
  {
   "cell_type": "markdown",
   "metadata": {},
   "source": [
    "##### We drop the row for 'San Francisco CA' as there are no observations in our dataset for this city \n",
    "##### This is something that we discover later but choose to remove it from now"
   ]
  },
  {
   "cell_type": "code",
   "execution_count": null,
   "metadata": {},
   "outputs": [],
   "source": [
    "df_cities = df_cities.drop([14],axis=0)"
   ]
  },
  {
   "cell_type": "markdown",
   "metadata": {},
   "source": [
    "### The areas and the hypotheses we are going to investigate are provided below\n",
    "\n",
    "*  What are the Profits of each company for each year (Total and Mean)? \n",
    "*  Ia there any seasonality in the Profit? By year, weekday or quarter?\n",
    "*  What are our customers like (Age, Monthly Income)? \n",
    "*  What are the number of customers for each company? Do they seem to change year after year?\n",
    "*  Is there a difference in customer segmentation for the cities? Do people prefer different cab companies in each city?\n"
   ]
  },
  {
   "cell_type": "markdown",
   "metadata": {},
   "source": [
    "###  Profit Analysis\n",
    "#####  Calculate Total Profit for each company for every year and plot the results\n",
    "We use function from https://dfrieds.com/data-visualizations/how-format-large-tick-values.html in order to turn large tick values of y axis into Millions (M) and Thousands (K)"
   ]
  },
  {
   "cell_type": "markdown",
   "metadata": {},
   "source": [
    "Yellow Cab company has greater total profit for each year compared  to Pink Cab company. Greatest value for Yellow Cab being at 16.5 Million in 2017 and for Pink Cab at 2 Million again at 2017"
   ]
  },
  {
   "cell_type": "code",
   "execution_count": null,
   "metadata": {},
   "outputs": [],
   "source": [
    "def reformat_large_tick_values(tick_val, pos):\n",
    "    \"\"\"\n",
    "    Turns large tick values (in the billions, millions and thousands) such as 4500 into 4.5K and also appropriately turns 4000 into 4K (no zero after the decimal).\n",
    "    \"\"\"\n",
    "    if tick_val >= 1000000000:\n",
    "        val = round(tick_val/1000000000, 1)\n",
    "        new_tick_format = '{:}B'.format(val)\n",
    "    elif tick_val >= 1000000:\n",
    "        val = round(tick_val/1000000, 1)\n",
    "        new_tick_format = '{:}M'.format(val)\n",
    "    elif tick_val >= 1000:\n",
    "        val = round(tick_val/1000, 1)\n",
    "        new_tick_format = '{:}K'.format(val)\n",
    "    elif tick_val < 1000:\n",
    "        new_tick_format = round(tick_val, 1)\n",
    "    else:\n",
    "        new_tick_format = tick_val\n",
    "\n",
    "    # make new_tick_format into a string value\n",
    "    new_tick_format = str(new_tick_format)\n",
    "    \n",
    "    # code below will keep 4.5M as is but change values such as 4.0M to 4M since that zero after the decimal isn't needed\n",
    "    index_of_decimal = new_tick_format.find(\".\")\n",
    "    \n",
    "    if index_of_decimal != -1:\n",
    "        value_after_decimal = new_tick_format[index_of_decimal+1]\n",
    "        if value_after_decimal == \"0\":\n",
    "            # remove the 0 after the decimal point since it's not needed\n",
    "            new_tick_format = new_tick_format[0:index_of_decimal] + new_tick_format[index_of_decimal+2:]\n",
    "            \n",
    "    return new_tick_format\n",
    "\n",
    "names = [2016,2017,2018]\n",
    "\n",
    "### Profit of each company for each year  ###\n",
    "df = dataset.groupby(['year','Company'])['Profit'].sum()\n",
    "df.unstack().plot(linestyle='--',marker='o')\n",
    "plt.title(\"Total Profit per Year\")\n",
    "ax = plt.gca()\n",
    "ax.yaxis.set_major_formatter(ticker.FuncFormatter(reformat_large_tick_values))\n",
    "y_axis = ax.axes.get_yaxis()\n",
    "y_axis.set_label_text(\"Total Profit ($)\")\n",
    "ax1 = plt.axes()\n",
    "x_axis = ax1.axes.get_xaxis()\n",
    "x_axis.set_label_text('foo')\n",
    "x_label = x_axis.get_label()\n",
    "x_label.set_visible(False)\n",
    "plt.xticks(names, rotation=45)\n",
    "plt.show()\n",
    "df"
   ]
  },
  {
   "cell_type": "markdown",
   "metadata": {},
   "source": [
    "####  Calculate Mean Trip Profit for each company for every year and plot the results\n",
    "Yellow Cab company seems to have greater mean profit per trip compared to Pink Cab company"
   ]
  },
  {
   "cell_type": "code",
   "execution_count": null,
   "metadata": {},
   "outputs": [],
   "source": [
    "by_year = (dataset\n",
    "           .groupby(['year','Company'])\n",
    "           .agg({'Profit':'mean'}))\n",
    "           \n",
    "by_year.unstack().plot(linestyle='--',marker='o')\n",
    "plt.title(\"Mean Trip Profit per Year\")\n",
    "ax1 = plt.axes()\n",
    "y_axis = ax1.axes.get_yaxis()\n",
    "y_axis.set_label_text(\"Mean Profit ($)\")\n",
    "x_axis = ax1.axes.get_xaxis()\n",
    "x_axis.set_label_text('foo')\n",
    "x_label = x_axis.get_label()\n",
    "x_label.set_visible(False)\n",
    "L = plt.legend()\n",
    "L.get_texts()[0].set_text('Pink Cab')\n",
    "L.get_texts()[1].set_text('Yellow Cab')\n",
    "plt.xticks([2016,2017,2018], rotation=45)\n",
    "plt.show()"
   ]
  },
  {
   "cell_type": "markdown",
   "metadata": {},
   "source": [
    "####  Calculate mean trip profit for every day of the month, regardless of year\n",
    "There is some fluctuation (we will see a reason why in the next plot) in the Profit but it seems to remain relatively constant for both companies"
   ]
  },
  {
   "cell_type": "code",
   "execution_count": null,
   "metadata": {},
   "outputs": [],
   "source": [
    "by_day = (dataset\n",
    "              .groupby(['day','Company'])\n",
    "              .agg({\"Profit\":'mean'}))\n",
    "by_day.unstack().plot(linestyle='--',marker='o')\n",
    "plt.title(\"Mean Profit for each day of Year\")\n",
    "ax1 = plt.axes()\n",
    "y_axis = ax1.axes.get_yaxis()\n",
    "y_axis.set_label_text(\"Mean Profit ($)\")\n",
    "x_axis = ax1.axes.get_xaxis()\n",
    "x_axis.set_label_text(\"Day of Month\")\n",
    "L = plt.legend()\n",
    "L.get_texts()[0].set_text('Pink Cab')\n",
    "L.get_texts()[1].set_text('Yellow Cab')"
   ]
  },
  {
   "cell_type": "markdown",
   "metadata": {},
   "source": [
    "#### Calculate mean profit for weekdays and plot the results\n",
    "We see that highest mean Profit is on Sunday, then on Friday and Saturday and then Monday followed by the rest three days of the week. \n",
    "This is observed in both companies, meaning that people tend to use cab services mostly on the weekend and Friday."
   ]
  },
  {
   "cell_type": "code",
   "execution_count": null,
   "metadata": {
    "scrolled": true
   },
   "outputs": [],
   "source": [
    "by_weekday = (dataset\n",
    "              .groupby(['weekday','Company'])\n",
    "              .agg({\"Profit\":'mean'}))\n",
    "by_weekday.unstack().plot(linestyle='--',marker='o')\n",
    "plt.title(\"Mean Profit for Weekdays\")\n",
    "plt.xticks(rotation=45)\n",
    "ax1 = plt.axes()\n",
    "y_axis = ax1.axes.get_yaxis()\n",
    "y_axis.set_label_text(\"Mean Profit ($)\")\n",
    "x_axis = ax1.axes.get_xaxis()\n",
    "x_axis.set_label_text(\"Day of Month\")\n",
    "x_label = x_axis.get_label()\n",
    "x_label.set_visible(False)\n",
    "L = plt.legend()\n",
    "L.get_texts()[0].set_text('Pink Cab')\n",
    "L.get_texts()[1].set_text('Yellow Cab')"
   ]
  },
  {
   "cell_type": "markdown",
   "metadata": {},
   "source": [
    "#### Calculate profit change in Quarter of every year for each company. \n",
    "Vertical lines represent Q4 of every year, which is also highest point. We notice seasonality in the profit data for both companies "
   ]
  },
  {
   "cell_type": "code",
   "execution_count": null,
   "metadata": {},
   "outputs": [],
   "source": [
    "dataset[\"quarter\"] = dataset['Date of Travel'].dt.to_period(\"Q\")\n",
    "\n",
    "df = dataset.groupby([\"quarter\",\"Company\"])[\"Profit\"].sum()\n",
    "df.unstack().plot(linestyle='-',marker='o')\n",
    "plt.title(\"Total Profit per Quarter of each Year\")\n",
    "plt.axvline(x='2016Q4',color=\"k\",linestyle=\"--\")\n",
    "plt.axvline(x='2017Q4',color=\"k\",linestyle=\"--\")\n",
    "ax = plt.gca()\n",
    "ax.yaxis.set_major_formatter(ticker.FuncFormatter(reformat_large_tick_values))\n",
    "ax1 = plt.axes()\n",
    "y_axis = ax1.axes.get_yaxis()\n",
    "y_axis.set_label_text(\"Total Profit ($)\")\n",
    "x_axis = ax1.axes.get_xaxis()\n",
    "x_axis.set_label_text('foo')\n",
    "x_label = x_axis.get_label()\n",
    "x_label.set_visible(False)\n",
    "plt.show()"
   ]
  },
  {
   "cell_type": "markdown",
   "metadata": {},
   "source": [
    "### Trips and Customer Analysis\n",
    "##### Calculate total number of trips by company for weekdays"
   ]
  },
  {
   "cell_type": "code",
   "execution_count": null,
   "metadata": {},
   "outputs": [],
   "source": [
    "by_weekday = dataset.groupby(['weekday','Company'])[\"weekday\"].count().unstack(\"Company\").fillna(0)\n",
    "by_weekday = by_weekday.sort_values(\"Yellow Cab\",ascending=False)\n",
    "by_weekday[[\"Pink Cab\",\"Yellow Cab\"]].plot(kind='bar',stacked=False)  \n",
    "plt.title(\"Total Number of Trips for Weekdays\")\n",
    "plt.xticks(rotation=45)\n",
    "ax1 = plt.axes()\n",
    "x_axis = ax1.axes.get_xaxis()\n",
    "x_axis.set_label_text('foo')\n",
    "x_label = x_axis.get_label()\n",
    "x_label.set_visible(False)\n",
    "y_axis = ax1.axes.get_yaxis()\n",
    "y_axis.set_label_text(\"Number of Trips\") \n",
    "plt.show()"
   ]
  },
  {
   "cell_type": "markdown",
   "metadata": {},
   "source": [
    "##### Calculate Number of Customers by Company for Weekdays\n",
    "Taking into account the previous plot as well, we can see that Yellow company has more customers using its services compared to Pink Company. We can also see that Yellow company's customers take more rides than Pink cab's."
   ]
  },
  {
   "cell_type": "code",
   "execution_count": null,
   "metadata": {},
   "outputs": [],
   "source": [
    "by_weekday = dataset.groupby(['weekday','Company'])[\"Customer ID\"].nunique().unstack(\"Company\").fillna(0)\n",
    "by_weekday = by_weekday.sort_values(\"Yellow Cab\",ascending=False)\n",
    "by_weekday[[\"Pink Cab\",\"Yellow Cab\"]].plot(kind='bar',stacked=False)\n",
    "plt.title(\"Total Number of Customers for Weekdays\")\n",
    "plt.ylim(0,25000)             \n",
    "plt.xticks(rotation=45)\n",
    "ax1 = plt.axes()\n",
    "x_axis = ax1.axes.get_xaxis()\n",
    "x_axis.set_label_text('foo')\n",
    "x_label = x_axis.get_label()\n",
    "x_label.set_visible(False)\n",
    "y_axis = ax1.axes.get_yaxis()\n",
    "y_axis.set_label_text(\"Number of Customers\")\n",
    "plt.show()"
   ]
  },
  {
   "cell_type": "markdown",
   "metadata": {},
   "source": [
    "##### Calculate Unique Customers  per year for each company\n",
    "Again we can see more customers for Yellow company than for Pink"
   ]
  },
  {
   "cell_type": "code",
   "execution_count": null,
   "metadata": {},
   "outputs": [],
   "source": [
    "item_counts = dataset.groupby([\"year\",\"Company\"])[\"Customer ID\"].nunique().unstack(\"Company\").fillna(0)\n",
    "\n",
    "ax = item_counts.plot(kind='bar',stacked=False)\n",
    "ax.set_alpha(0.8)\n",
    "plt.title(\"Number of Customers for each Year\")\n",
    "plt.ylim(0,37000)\n",
    "plt.xticks(rotation=45)\n",
    "ax1 = plt.axes()\n",
    "x_axis = ax1.axes.get_xaxis()\n",
    "x_axis.set_label_text('foo')\n",
    "x_label = x_axis.get_label()\n",
    "x_label.set_visible(False)\n",
    "y_axis = ax1.axes.get_yaxis()\n",
    "y_axis.set_label_text(\"Total Number of Customers\")\n",
    "for i in ax.patches:\n",
    "    \n",
    "    ax.text(i.get_x(), i.get_height()+500, \\\n",
    "            str(round((i.get_height()), 2)), fontsize=9, color='dimgrey')\n",
    "plt.legend(loc=\"upper left\")        \n",
    "plt.show()"
   ]
  },
  {
   "cell_type": "markdown",
   "metadata": {},
   "source": [
    " ##### Calculate total number of unique customers of each company for every city   "
   ]
  },
  {
   "cell_type": "code",
   "execution_count": null,
   "metadata": {},
   "outputs": [],
   "source": [
    "item_counts = dataset.groupby([\"Company\",\"City\"])[\"Customer ID\"].nunique().unstack(\"Company\").fillna(0)\n",
    "item_counts = item_counts.sort_values(\"Yellow Cab\",ascending=False)\n",
    "item_counts.plot(kind='bar')\n",
    "plt.title(\"Customers per City\")\n",
    "ax1 = plt.axes()\n",
    "x_axis = ax1.axes.get_xaxis()\n",
    "x_axis.set_label_text('foo')\n",
    "x_label = x_axis.get_label()\n",
    "x_label.set_visible(False)\n",
    "y_axis = ax1.axes.get_yaxis()\n",
    "y_axis.set_label_text(\"Customers\")"
   ]
  },
  {
   "cell_type": "markdown",
   "metadata": {},
   "source": [
    "#### Calculate percentage of customers per city cab users for all 19 cities\n",
    "#We can see that Yellow cab has biggest difference from Pink cab in number of customers for the cities of Washington, New York, Chicago and Boston. We also see an interesting result, where the % of customers for Pink company is greater than that of Yellow company in the cities of San Diego, Sacramento, Pittsburgh and Nashville."
   ]
  },
  {
   "cell_type": "code",
   "execution_count": null,
   "metadata": {},
   "outputs": [],
   "source": [
    "by_ct = dataset.groupby(['City','Company'])['Customer ID'].nunique().unstack(\"Company\").fillna(0)\n",
    "\n",
    "cities = pd.merge(df_cities,by_ct,on=\"City\")\n",
    "cities[\"Pink Cab\"] = cities[\"Pink Cab\"] / cities[\"Users\"]\n",
    "cities[\"Yellow Cab\"] = cities[\"Yellow Cab\"] / cities[\"Users\"]\n",
    "cities = cities.drop(\"Population\",axis=1)\n",
    "cities = cities.drop(\"Users\",axis=1)\n",
    "cities = cities.sort_values(\"Yellow Cab\",ascending=False)\n",
    "labels = cities[\"City\"]\n",
    "cities.plot(kind='bar')\n",
    "plt.title(\"% of Customers per City Cab Users\")\n",
    "ax = plt.axes()\n",
    "y_axis = ax.axes.get_yaxis()\n",
    "y_axis.set_label_text(\"% of Customers\")\n",
    "ax.set_xticks(range(0,len(labels)))\n",
    "ax.set_xticklabels(labels)\n",
    "plt.tight_layout()\n",
    "plt.show()"
   ]
  },
  {
   "cell_type": "markdown",
   "metadata": {},
   "source": [
    "#### Calculate the percentage of user covered by each company in all 19 cities\n",
    "We observe that in total Yellow company reaches more customers than Pink company in these 19 cities"
   ]
  },
  {
   "cell_type": "code",
   "execution_count": null,
   "metadata": {},
   "outputs": [],
   "source": [
    "item_counts = dataset.groupby(\"Company\")[\"Customer ID\"].nunique()\n",
    "a=item_counts[[1]]/df_cities[\"Users\"].sum()\n",
    "b=item_counts[[0]]/df_cities[\"Users\"].sum()\n",
    "Users = [a[0]*100,b[0]*100]\n",
    "labels = [\"Yellow Cab\",\"Pink Cab\"]\n",
    "ax = pd.Series(Users).plot(kind='bar',color=[\"darkorange\",\"royalblue\"])\n",
    "plt.title(\"% of Cab Users Covered in all 19 Cities\")\n",
    "plt.ylim(0.4)\n",
    "ax.set_xticks(range(0,2))\n",
    "ax.set_xticklabels(labels,rotation = 0)\n",
    "rects = ax.patches\n",
    "labels = [str(Users[0].round(3)),str(Users[1].round(3))]\n",
    "for rect, label in zip(rects, labels):\n",
    "    height = rect.get_height()\n",
    "    ax.text(rect.get_x() + rect.get_width() / 2, height, label,\n",
    "            ha='center', va='bottom')"
   ]
  },
  {
   "cell_type": "markdown",
   "metadata": {},
   "source": [
    "### Analysis by Customer Demographics\n",
    "#### Calculate number of Male and Female customers in total and plot results. \n",
    "We observe that most customers are Male (201948) than Female (153074). And in the plot we can see the gender distribution in each company "
   ]
  },
  {
   "cell_type": "code",
   "execution_count": null,
   "metadata": {},
   "outputs": [],
   "source": [
    "dataset.groupby([\"Gender\"]).size()"
   ]
  },
  {
   "cell_type": "code",
   "execution_count": null,
   "metadata": {},
   "outputs": [],
   "source": [
    "df = dataset.groupby([\"Gender\",\"Company\"]).size()\n",
    "df.unstack(\"Company\").plot(kind='bar',stacked=False)\n",
    "plt.title(\"Number of Cab Users by Gender\")\n",
    "ax1 = plt.axes()\n",
    "y_axis = ax1.axes.get_yaxis()\n",
    "y_axis.set_label_text(\"Customers\")\n",
    "x_axis = ax1.axes.get_xaxis()\n",
    "x_axis.set_label_text('foo')\n",
    "x_label = x_axis.get_label()\n",
    "x_label.set_visible(False)\n",
    "plt.xticks(rotation=45)"
   ]
  },
  {
   "cell_type": "markdown",
   "metadata": {},
   "source": [
    "#### Calculate profit by gender for each company\n",
    "We can see that most Profit for each company is generated by Male customers "
   ]
  },
  {
   "cell_type": "code",
   "execution_count": null,
   "metadata": {},
   "outputs": [],
   "source": [
    "df = dataset.groupby([\"Gender\",\"Company\"])[\"Profit\"].sum()\n",
    "df.unstack(\"Company\").plot(kind='bar',stacked=False)\n",
    "plt.title(\"Total Profit by Gender\")\n",
    "ax = plt.gca()\n",
    "ax.yaxis.set_major_formatter(ticker.FuncFormatter(reformat_large_tick_values))\n",
    "ax1 = plt.axes()\n",
    "y_axis = ax1.axes.get_yaxis()\n",
    "y_axis.set_label_text(\"Total Profit ($)\")\n",
    "x_axis = ax1.axes.get_xaxis()\n",
    "x_axis.set_label_text('foo')\n",
    "x_label = x_axis.get_label()\n",
    "x_label.set_visible(False)\n",
    "plt.xticks(rotation=45)"
   ]
  },
  {
   "cell_type": "markdown",
   "metadata": {},
   "source": [
    "#### Calculate profit by age group of customers\n",
    "We observe that for both companies the greatest contribution in Total Profit come from the two age groups [27 - 40] and [18 - 26], again with yellow company earning more in total"
   ]
  },
  {
   "cell_type": "code",
   "execution_count": null,
   "metadata": {},
   "outputs": [],
   "source": [
    "dataset[\"Age Group\"] = pd.cut(dataset.Age,bins=[18,27,40,55,99],labels=[\"[18-26]\",\"[27-40]\",\"[41-55]\",\"[56+]\"])\n",
    "by_agegroup = (dataset\n",
    "              .groupby([\"Age Group\",\"year\",'Company'])\n",
    "              .agg({\"Profit\":'sum'}))\n",
    "labels = [\"2016,Pink Cab\",\"2016,Yellow Cab\",\"2017,Pink Cab\",\"2017,Yellow Cab\",\"2018,Pink Cab\",\"2018,Yellow Cab\"]\n",
    "by_agegroup.unstack(\"Age Group\").plot(kind='bar',stacked=False)\n",
    "plt.title(\"Total Profit by Age Group\")\n",
    "ax = plt.gca()\n",
    "ax.yaxis.set_major_formatter(ticker.FuncFormatter(reformat_large_tick_values))\n",
    "ax1 = plt.axes()\n",
    "y_axis = ax1.axes.get_yaxis()\n",
    "y_axis.set_label_text(\"Total Profit ($)\")\n",
    "ax1.set_xticks(range(0,6))\n",
    "ax1.set_xticklabels(labels,rotation = 45)\n",
    "x_axis = ax1.axes.get_xaxis()\n",
    "x_axis.set_label_text('foo')\n",
    "x_label = x_axis.get_label()\n",
    "x_label.set_visible(False)\n",
    "plt.ylim(0,8500000)\n",
    "L = plt.legend()\n",
    "L.get_texts()[0].set_text('[18-26]')\n",
    "L.get_texts()[1].set_text('[27-40]')\n",
    "L.get_texts()[2].set_text('[41-55]')\n",
    "L.get_texts()[3].set_text('[55+]')\n",
    "plt.show()"
   ]
  },
  {
   "cell_type": "markdown",
   "metadata": {},
   "source": [
    "#### Calculate customer percentage by age group \n",
    "Again we observe that most customers for both companies come from the age groups  [27 - 40] and [18 - 26]"
   ]
  },
  {
   "cell_type": "code",
   "execution_count": null,
   "metadata": {},
   "outputs": [],
   "source": [
    "by_agegroup = (dataset\n",
    "              .groupby([\"Age Group\",\"year\",'Company'])\n",
    "              .agg({\"Profit\":'count'}))\n",
    "\n",
    "labels = [\"2016,Pink Cab\",\"2016,Yellow Cab\",\"2017,Pink Cab\",\"2017,Yellow Cab\",\"2018,Pink Cab\",\"2018,Yellow Cab\"]\n",
    "by_agegroup[\"user\"] = by_agegroup[\"Profit\"] / by_agegroup[\"Profit\"].sum()\n",
    "by_agegroup = by_agegroup.drop(\"Profit\",axis=1)\n",
    "by_agegroup.unstack(\"Age Group\").plot(kind='bar',stacked=True)\n",
    "plt.title(\"Customer % by Age Group\")\n",
    "ax1 = plt.axes()\n",
    "y_axis = ax1.axes.get_yaxis()\n",
    "y_axis.set_label_text(\"% of Customers\")\n",
    "ax1.set_xticks(range(0,6))\n",
    "ax1.set_xticklabels(labels,rotation = 45)\n",
    "x_axis = ax1.axes.get_xaxis()\n",
    "x_axis.set_label_text('foo')\n",
    "x_label = x_axis.get_label()\n",
    "x_label.set_visible(False)\n",
    "plt.ylim(0,0.35)\n",
    "plt.legend(loc='upper left')\n",
    "L = plt.legend()\n",
    "L.get_texts()[0].set_text('[18-26]')\n",
    "L.get_texts()[1].set_text('[27-40]')\n",
    "L.get_texts()[2].set_text('[41-55]')\n",
    "L.get_texts()[3].set_text('[55+]')\n",
    "plt.show()"
   ]
  },
  {
   "cell_type": "markdown",
   "metadata": {},
   "source": [
    "#### Calculate income wise profit for each company\n",
    "We can see that Middle and Upper class customers provide the majority of profits for each company"
   ]
  },
  {
   "cell_type": "code",
   "execution_count": null,
   "metadata": {},
   "outputs": [],
   "source": [
    "dataset[\"Income Group\"] = pd.cut(dataset[\"Income (USD/Month)\"],bins=[0,3000,15000,50000],labels=[\"[0-3000]\",\"[3000-15000]\",\"[15000+]\"])\n",
    "by_income = (dataset\n",
    "              .groupby([\"Income Group\",\"year\",'Company'])\n",
    "              .agg({\"Profit\":'sum'}))\n",
    "labels = [\"2016,Pink Cab\",\"2016,Yellow Cab\",\"2017,Pink Cab\",\"2017,Yellow Cab\",\"2018,Pink Cab\",\"2018,Yellow Cab\"]\n",
    "by_income.unstack(\"Income Group\").plot(kind='bar',stacked=False)\n",
    "plt.title(\"Total Proft by Monthly Income Group\")\n",
    "ax = plt.gca()\n",
    "ax.yaxis.set_major_formatter(ticker.FuncFormatter(reformat_large_tick_values))\n",
    "ax1 = plt.axes()\n",
    "y_axis = ax1.axes.get_yaxis()\n",
    "y_axis.set_label_text(\"Total Profit ($)\")\n",
    "ax1.set_xticks(range(0,6))\n",
    "ax1.set_xticklabels(labels,rotation = 45)\n",
    "x_axis = ax1.axes.get_xaxis()\n",
    "x_axis.set_label_text('foo')\n",
    "x_label = x_axis.get_label()\n",
    "x_label.set_visible(False)\n",
    "plt.ylim(0,10000000)\n",
    "L = plt.legend()\n",
    "L.get_texts()[0].set_text('[0-3000]')\n",
    "L.get_texts()[1].set_text('[3000-15000]')\n",
    "L.get_texts()[2].set_text('[15000+]')\n",
    "plt.show()"
   ]
  },
  {
   "cell_type": "markdown",
   "metadata": {},
   "source": [
    "#### Calculate customer base for each income class by year by company\n",
    "Again, the majority of customers come from Middle and Upper class citizens"
   ]
  },
  {
   "cell_type": "code",
   "execution_count": null,
   "metadata": {},
   "outputs": [],
   "source": [
    "dataset[\"Income Group\"] = pd.cut(dataset[\"Income (USD/Month)\"],bins=[0,3000,15000,50000],labels=[\"[0-3000]\",\"[3000-15000]\",\"[15000+]\"])\n",
    "by_income = (dataset\n",
    "              .groupby([\"Income Group\",\"year\",'Company'])\n",
    "              .agg({\"Profit\":'count'}))\n",
    "labels = [\"2016,Pink Cab\",\"2016,Yellow Cab\",\"2017,Pink Cab\",\"2017,Yellow Cab\",\"2018,Pink Cab\",\"2018,Yellow Cab\"]\n",
    "by_income.unstack(\"Income Group\").plot(kind='bar',stacked=False)\n",
    "plt.title(\"Number of Customers by Monthly Income Group\")\n",
    "ax1 = plt.axes()\n",
    "y_axis = ax1.axes.get_yaxis()\n",
    "y_axis.set_label_text(\"Customers\")\n",
    "ax1.set_xticks(range(0,6))\n",
    "ax1.set_xticklabels(labels,rotation = 45)\n",
    "x_axis = ax1.axes.get_xaxis()\n",
    "x_axis.set_label_text('foo')\n",
    "x_label = x_axis.get_label()\n",
    "x_label.set_visible(False)\n",
    "L = plt.legend()\n",
    "L.get_texts()[0].set_text('[0-3000]')\n",
    "L.get_texts()[1].set_text('[3000-15000]')\n",
    "L.get_texts()[2].set_text('[15000+]')\n",
    "plt.show()"
   ]
  },
  {
   "cell_type": "markdown",
   "metadata": {},
   "source": [
    "### Customer Retention Analysis\n",
    "We would like to see how many customers use the cab services repeatedly.\n",
    "We select only customers with [1- 5] trips and those that have >6 trips and calculate for each company"
   ]
  },
  {
   "cell_type": "code",
   "execution_count": null,
   "metadata": {},
   "outputs": [],
   "source": [
    "df = dataset.groupby(['Customer ID',\"Company\",'year']).size().unstack(\"Company\").fillna(0)\n",
    "\n",
    "df_P = df[df[\"Pink Cab\"] != 0]\n",
    "df_P = pd.cut(df_P[\"Pink Cab\"],bins=[0,5,50],labels=[\"[1-5]\",\"[5+]\"]).to_frame()\n",
    "df1 = df_P.groupby([\"year\"]).size().to_frame()\n",
    "df_Y = df[df[\"Yellow Cab\"] != 0]\n",
    "df_Y = pd.cut(df_Y[\"Yellow Cab\"],bins=[0,5,50],labels=[\"[1-5]\",\"[5+]\"]).to_frame()\n",
    "df_P1 = df_P[df_P['Pink Cab'] == \"[1-5]\"]\n",
    "df_P2 = df_P[df_P['Pink Cab'] != \"[1-5]\"]\n",
    "\n",
    "df_Y1 = df_Y[df_Y['Yellow Cab'] == \"[1-5]\"]\n",
    "df_Y2 = df_Y[df_Y['Yellow Cab'] != \"[1-5]\"]\n",
    "\n",
    "p1 = df_P1.groupby(['year']).size()\n",
    "p2 = df_P2.groupby(['year']).size()\n",
    "y1 = df_Y1.groupby(['year']).size()\n",
    "y2 = df_Y2.groupby(['year']).size()"
   ]
  },
  {
   "cell_type": "markdown",
   "metadata": {},
   "source": [
    "#### Plot the number of customers with 1-5 trips with each  company \n",
    "We can see that while there is still a difference between the companies, with Yellow company having more customers, it is not that substantial"
   ]
  },
  {
   "cell_type": "code",
   "execution_count": null,
   "metadata": {},
   "outputs": [],
   "source": [
    "labels = [\"2016\",\"2017\",\"2018\"]\n",
    "yellow = [y1.iloc[0],y1.iloc[1],y1.iloc[2]]\n",
    "pink = [p1.iloc[0],p1.iloc[1],p1.iloc[2]]\n",
    "x = np.arange(len(labels))\n",
    "width = 0.35\n",
    "fig, ax = plt.subplots()\n",
    "rects1 = ax.bar(x+width/2,pink,width,label=\"Pink Cab\")\n",
    "rects2 = ax.bar(x-width/2,yellow,width,label=\"Yellow Cab\")\n",
    "ax.set_ylabel('Number of Trips')\n",
    "ax.set_title('Less than or equal to 5 trips')\n",
    "plt.ylim(0,27000)\n",
    "ax.set_xticks(x)\n",
    "ax.set_xticklabels(labels)\n",
    "ax.legend()\n",
    "for i in ax.patches:\n",
    "    \n",
    "    ax.text(i.get_x()+0.05, i.get_height()+55, \\\n",
    "            str(round((i.get_height()), 2)), fontsize=9, color='dimgrey')\n",
    "plt.tight_layout()\n",
    "plt.show()\n"
   ]
  },
  {
   "cell_type": "markdown",
   "metadata": {},
   "source": [
    "#### Plot the number of customers with >6 trips with each  company \n",
    "Here we can see a very big difference in customer willingness to choose Yellow company over Pink company repeatedly"
   ]
  },
  {
   "cell_type": "code",
   "execution_count": null,
   "metadata": {
    "scrolled": true
   },
   "outputs": [],
   "source": [
    "labels = [\"2016\",\"2017\",\"2018\"]\n",
    "yellow = [y2.iloc[0],y2.iloc[1],y2.iloc[2]]\n",
    "pink = [p2.iloc[0],p2.iloc[1],p2.iloc[2]]\n",
    "x = np.arange(len(labels))\n",
    "width = 0.35\n",
    "fig, ax = plt.subplots()\n",
    "rects1 = ax.bar(x+width/2,pink,width,label=\"Pink Cab\")\n",
    "rects2 = ax.bar(x-width/2,yellow,width,label=\"Yellow Cab\")\n",
    "ax.set_ylabel('Number of Trips')\n",
    "ax.set_title('Greater than 5 trips')\n",
    "ax.set_xticks(x)\n",
    "ax.set_xticklabels(labels)\n",
    "ax.legend()\n",
    "for i in ax.patches:\n",
    "    \n",
    "    ax.text(i.get_x()+0.06, i.get_height()+55, \\\n",
    "            str(round((i.get_height()), 2)), fontsize=9, color='dimgrey')\n",
    "plt.tight_layout()\n",
    "plt.show()"
   ]
  },
  {
   "cell_type": "code",
   "execution_count": null,
   "metadata": {},
   "outputs": [],
   "source": []
  }
 ],
 "metadata": {
  "kernelspec": {
   "display_name": "Python 3",
   "language": "python",
   "name": "python3"
  },
  "language_info": {
   "codemirror_mode": {
    "name": "ipython",
    "version": 3
   },
   "file_extension": ".py",
   "mimetype": "text/x-python",
   "name": "python",
   "nbconvert_exporter": "python",
   "pygments_lexer": "ipython3",
   "version": "3.8.5"
  }
 },
 "nbformat": 4,
 "nbformat_minor": 4
}

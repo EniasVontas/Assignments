{
 "cells": [
  {
   "cell_type": "markdown",
   "metadata": {},
   "source": [
    "# Data Science Project: Persistency of Drug"
   ]
  },
  {
   "cell_type": "markdown",
   "metadata": {},
   "source": [
    "## Notebook about data clensing and transformation"
   ]
  },
  {
   "cell_type": "markdown",
   "metadata": {},
   "source": [
    "## Load the dataset"
   ]
  },
  {
   "cell_type": "code",
   "execution_count": 1,
   "metadata": {},
   "outputs": [
    {
     "name": "stdout",
     "output_type": "stream",
     "text": [
      "<class 'pandas.core.frame.DataFrame'>\n",
      "RangeIndex: 3424 entries, 0 to 3423\n",
      "Data columns (total 69 columns):\n",
      " #   Column                                                              Non-Null Count  Dtype \n",
      "---  ------                                                              --------------  ----- \n",
      " 0   Ptid                                                                3424 non-null   object\n",
      " 1   Persistency_Flag                                                    3424 non-null   object\n",
      " 2   Gender                                                              3424 non-null   object\n",
      " 3   Race                                                                3424 non-null   object\n",
      " 4   Ethnicity                                                           3424 non-null   object\n",
      " 5   Region                                                              3424 non-null   object\n",
      " 6   Age_Bucket                                                          3424 non-null   object\n",
      " 7   Ntm_Speciality                                                      3424 non-null   object\n",
      " 8   Ntm_Specialist_Flag                                                 3424 non-null   object\n",
      " 9   Ntm_Speciality_Bucket                                               3424 non-null   object\n",
      " 10  Gluco_Record_Prior_Ntm                                              3424 non-null   object\n",
      " 11  Gluco_Record_During_Rx                                              3424 non-null   object\n",
      " 12  Dexa_Freq_During_Rx                                                 3424 non-null   int64 \n",
      " 13  Dexa_During_Rx                                                      3424 non-null   object\n",
      " 14  Frag_Frac_Prior_Ntm                                                 3424 non-null   object\n",
      " 15  Frag_Frac_During_Rx                                                 3424 non-null   object\n",
      " 16  Risk_Segment_Prior_Ntm                                              3424 non-null   object\n",
      " 17  Tscore_Bucket_Prior_Ntm                                             3424 non-null   object\n",
      " 18  Risk_Segment_During_Rx                                              3424 non-null   object\n",
      " 19  Tscore_Bucket_During_Rx                                             3424 non-null   object\n",
      " 20  Change_T_Score                                                      3424 non-null   object\n",
      " 21  Change_Risk_Segment                                                 3424 non-null   object\n",
      " 22  Adherent_Flag                                                       3424 non-null   object\n",
      " 23  Idn_Indicator                                                       3424 non-null   object\n",
      " 24  Injectable_Experience_During_Rx                                     3424 non-null   object\n",
      " 25  Comorb_Encounter_For_Screening_For_Malignant_Neoplasms              3424 non-null   object\n",
      " 26  Comorb_Encounter_For_Immunization                                   3424 non-null   object\n",
      " 27  Comorb_Encntr_For_General_Exam_W_O_Complaint,_Susp_Or_Reprtd_Dx     3424 non-null   object\n",
      " 28  Comorb_Vitamin_D_Deficiency                                         3424 non-null   object\n",
      " 29  Comorb_Other_Joint_Disorder_Not_Elsewhere_Classified                3424 non-null   object\n",
      " 30  Comorb_Encntr_For_Oth_Sp_Exam_W_O_Complaint_Suspected_Or_Reprtd_Dx  3424 non-null   object\n",
      " 31  Comorb_Long_Term_Current_Drug_Therapy                               3424 non-null   object\n",
      " 32  Comorb_Dorsalgia                                                    3424 non-null   object\n",
      " 33  Comorb_Personal_History_Of_Other_Diseases_And_Conditions            3424 non-null   object\n",
      " 34  Comorb_Other_Disorders_Of_Bone_Density_And_Structure                3424 non-null   object\n",
      " 35  Comorb_Disorders_of_lipoprotein_metabolism_and_other_lipidemias     3424 non-null   object\n",
      " 36  Comorb_Osteoporosis_without_current_pathological_fracture           3424 non-null   object\n",
      " 37  Comorb_Personal_history_of_malignant_neoplasm                       3424 non-null   object\n",
      " 38  Comorb_Gastro_esophageal_reflux_disease                             3424 non-null   object\n",
      " 39  Concom_Cholesterol_And_Triglyceride_Regulating_Preparations         3424 non-null   object\n",
      " 40  Concom_Narcotics                                                    3424 non-null   object\n",
      " 41  Concom_Systemic_Corticosteroids_Plain                               3424 non-null   object\n",
      " 42  Concom_Anti_Depressants_And_Mood_Stabilisers                        3424 non-null   object\n",
      " 43  Concom_Fluoroquinolones                                             3424 non-null   object\n",
      " 44  Concom_Cephalosporins                                               3424 non-null   object\n",
      " 45  Concom_Macrolides_And_Similar_Types                                 3424 non-null   object\n",
      " 46  Concom_Broad_Spectrum_Penicillins                                   3424 non-null   object\n",
      " 47  Concom_Anaesthetics_General                                         3424 non-null   object\n",
      " 48  Concom_Viral_Vaccines                                               3424 non-null   object\n",
      " 49  Risk_Type_1_Insulin_Dependent_Diabetes                              3424 non-null   object\n",
      " 50  Risk_Osteogenesis_Imperfecta                                        3424 non-null   object\n",
      " 51  Risk_Rheumatoid_Arthritis                                           3424 non-null   object\n",
      " 52  Risk_Untreated_Chronic_Hyperthyroidism                              3424 non-null   object\n",
      " 53  Risk_Untreated_Chronic_Hypogonadism                                 3424 non-null   object\n",
      " 54  Risk_Untreated_Early_Menopause                                      3424 non-null   object\n",
      " 55  Risk_Patient_Parent_Fractured_Their_Hip                             3424 non-null   object\n",
      " 56  Risk_Smoking_Tobacco                                                3424 non-null   object\n",
      " 57  Risk_Chronic_Malnutrition_Or_Malabsorption                          3424 non-null   object\n",
      " 58  Risk_Chronic_Liver_Disease                                          3424 non-null   object\n",
      " 59  Risk_Family_History_Of_Osteoporosis                                 3424 non-null   object\n",
      " 60  Risk_Low_Calcium_Intake                                             3424 non-null   object\n",
      " 61  Risk_Vitamin_D_Insufficiency                                        3424 non-null   object\n",
      " 62  Risk_Poor_Health_Frailty                                            3424 non-null   object\n",
      " 63  Risk_Excessive_Thinness                                             3424 non-null   object\n",
      " 64  Risk_Hysterectomy_Oophorectomy                                      3424 non-null   object\n",
      " 65  Risk_Estrogen_Deficiency                                            3424 non-null   object\n",
      " 66  Risk_Immobilization                                                 3424 non-null   object\n",
      " 67  Risk_Recurring_Falls                                                3424 non-null   object\n",
      " 68  Count_Of_Risks                                                      3424 non-null   int64 \n",
      "dtypes: int64(2), object(67)\n",
      "memory usage: 1.8+ MB\n"
     ]
    },
    {
     "data": {
      "text/plain": [
       "Persistency_Flag\n",
       "Non-Persistent    2135\n",
       "Persistent        1289\n",
       "Name: Persistency_Flag, dtype: int64"
      ]
     },
     "execution_count": 1,
     "metadata": {},
     "output_type": "execute_result"
    }
   ],
   "source": [
    "import pandas as pd\n",
    "import numpy as np\n",
    "import seaborn as sns\n",
    "import matplotlib.pyplot as plt\n",
    "import requests as rq\n",
    "from io import BytesIO\n",
    "\n",
    "url = \"https://raw.githubusercontent.com/EniasVontas/DataSets/main/ntm_dataset.xlsx\"\n",
    "data = rq.get(url).content\n",
    "data = pd.read_excel(BytesIO(data))\n",
    "\n",
    "data.info()\n",
    "data.groupby([\"Persistency_Flag\"]).Persistency_Flag.count()"
   ]
  },
  {
   "cell_type": "markdown",
   "metadata": {},
   "source": [
    "#### Split Dataset\n",
    "####  Label the target variable and drop ID variable"
   ]
  },
  {
   "cell_type": "code",
   "execution_count": 2,
   "metadata": {},
   "outputs": [],
   "source": [
    "data = data.drop(['Ptid'],axis=1)\n",
    "X = data.drop(['Persistency_Flag'],axis=1)\n",
    "\n",
    "y=data['Persistency_Flag']"
   ]
  },
  {
   "cell_type": "markdown",
   "metadata": {},
   "source": [
    "#### Split the dataset into Train and Test"
   ]
  },
  {
   "cell_type": "code",
   "execution_count": 3,
   "metadata": {},
   "outputs": [
    {
     "name": "stdout",
     "output_type": "stream",
     "text": [
      "Train (2739, 67) (2739,)\n",
      "Test (685, 67) (685,)\n"
     ]
    }
   ],
   "source": [
    "from sklearn.model_selection import train_test_split\n",
    "X_train, X_test, y_train, y_test = train_test_split(X, y, test_size=0.2, random_state=1)\n",
    "\n",
    "print('Train', X_train.shape, y_train.shape)\n",
    "print('Test', X_test.shape, y_test.shape) "
   ]
  },
  {
   "cell_type": "code",
   "execution_count": 4,
   "metadata": {},
   "outputs": [],
   "source": [
    "# We encode the target variable\n",
    "from sklearn import preprocessing\n",
    "le = preprocessing.LabelEncoder()\n",
    "le.fit(y_train)\n",
    "\n",
    "le.classes_\n",
    "y_train=le.transform(y_train)\n",
    "\n",
    "y_test = le.transform(y_test)"
   ]
  },
  {
   "cell_type": "markdown",
   "metadata": {},
   "source": [
    "####     Choose 'object' and 'non-object' columns"
   ]
  },
  {
   "cell_type": "code",
   "execution_count": 5,
   "metadata": {},
   "outputs": [],
   "source": [
    "data_numeric_train = X_train.select_dtypes(exclude=['object'])\n",
    "data_numeric_test = X_test.select_dtypes(exclude=['object'])\n",
    "data_obj_train = X_train.select_dtypes(include=['object']).copy()\n",
    "data_obj_test = X_test.select_dtypes(include=['object']).copy()"
   ]
  },
  {
   "cell_type": "markdown",
   "metadata": {},
   "source": [
    "#### We keep the indices of the Train and Test sets, because they will be removed later, during Imputation "
   ]
  },
  {
   "cell_type": "code",
   "execution_count": 6,
   "metadata": {},
   "outputs": [],
   "source": [
    "indices_train = data_numeric_train.index\n",
    "indices_test = data_numeric_test.index"
   ]
  },
  {
   "cell_type": "markdown",
   "metadata": {},
   "source": [
    "#### We check some variables for Unknown values"
   ]
  },
  {
   "cell_type": "code",
   "execution_count": 7,
   "metadata": {},
   "outputs": [
    {
     "data": {
      "text/plain": [
       "Ntm_Speciality\n",
       "CARDIOLOGY                                                          20\n",
       "CLINICAL NURSE SPECIALIST                                            1\n",
       "EMERGENCY MEDICINE                                                   1\n",
       "ENDOCRINOLOGY                                                      353\n",
       "GASTROENTEROLOGY                                                     2\n",
       "GENERAL PRACTITIONER                                              1236\n",
       "GERIATRIC MEDICINE                                                   2\n",
       "HEMATOLOGY & ONCOLOGY                                               11\n",
       "HOSPICE AND PALLIATIVE MEDICINE                                      2\n",
       "NEPHROLOGY                                                           3\n",
       "NEUROLOGY                                                            1\n",
       "NUCLEAR MEDICINE                                                     1\n",
       "OBSTETRICS & OBSTETRICS & GYNECOLOGY & OBSTETRICS & GYNECOLOGY       1\n",
       "OBSTETRICS AND GYNECOLOGY                                           72\n",
       "ONCOLOGY                                                           174\n",
       "ORTHOPEDIC SURGERY                                                  26\n",
       "ORTHOPEDICS                                                          3\n",
       "OTOLARYNGOLOGY                                                       9\n",
       "PAIN MEDICINE                                                        1\n",
       "PATHOLOGY                                                           11\n",
       "PEDIATRICS                                                          13\n",
       "PHYSICAL MEDICINE AND REHABILITATION                                10\n",
       "PLASTIC SURGERY                                                      2\n",
       "PODIATRY                                                             1\n",
       "PSYCHIATRY AND NEUROLOGY                                             3\n",
       "PULMONARY MEDICINE                                                   7\n",
       "RADIOLOGY                                                            1\n",
       "RHEUMATOLOGY                                                       477\n",
       "SURGERY AND SURGICAL SPECIALTIES                                     6\n",
       "UROLOGY                                                             29\n",
       "Unknown                                                            258\n",
       "VASCULAR SURGERY                                                     2\n",
       "Name: Ntm_Speciality, dtype: int64"
      ]
     },
     "execution_count": 7,
     "metadata": {},
     "output_type": "execute_result"
    }
   ],
   "source": [
    "data_obj_train.groupby([\"Ntm_Speciality\"]).Ntm_Speciality.count()"
   ]
  },
  {
   "cell_type": "code",
   "execution_count": 8,
   "metadata": {},
   "outputs": [
    {
     "data": {
      "text/plain": [
       "Ntm_Specialist_Flag\n",
       "Others        1633\n",
       "Specialist    1106\n",
       "Name: Ntm_Specialist_Flag, dtype: int64"
      ]
     },
     "execution_count": 8,
     "metadata": {},
     "output_type": "execute_result"
    }
   ],
   "source": [
    "data_obj_train.groupby([\"Ntm_Specialist_Flag\"]).Ntm_Specialist_Flag.count()"
   ]
  },
  {
   "cell_type": "code",
   "execution_count": 9,
   "metadata": {},
   "outputs": [
    {
     "data": {
      "text/plain": [
       "Ntm_Speciality_Bucket\n",
       "Endo/Onc/Uro                  556\n",
       "OB/GYN/Others/PCP/Unknown    1706\n",
       "Rheum                         477\n",
       "Name: Ntm_Speciality_Bucket, dtype: int64"
      ]
     },
     "execution_count": 9,
     "metadata": {},
     "output_type": "execute_result"
    }
   ],
   "source": [
    "data_obj_train.groupby([\"Ntm_Speciality_Bucket\"]).Ntm_Speciality_Bucket.count()"
   ]
  },
  {
   "cell_type": "code",
   "execution_count": 10,
   "metadata": {},
   "outputs": [
    {
     "data": {
      "text/plain": [
       "Adherent_Flag\n",
       "Adherent        2599\n",
       "Non-Adherent     140\n",
       "Name: Adherent_Flag, dtype: int64"
      ]
     },
     "execution_count": 10,
     "metadata": {},
     "output_type": "execute_result"
    }
   ],
   "source": [
    "data_obj_train.groupby([\"Adherent_Flag\"]).Adherent_Flag.count()"
   ]
  },
  {
   "cell_type": "code",
   "execution_count": 11,
   "metadata": {},
   "outputs": [
    {
     "data": {
      "text/plain": [
       "Tscore_Bucket_During_Rx\n",
       "<=-2.5      805\n",
       ">-2.5       711\n",
       "Unknown    1223\n",
       "Name: Tscore_Bucket_During_Rx, dtype: int64"
      ]
     },
     "execution_count": 11,
     "metadata": {},
     "output_type": "execute_result"
    }
   ],
   "source": [
    "data_obj_train.groupby([\"Tscore_Bucket_During_Rx\"]).Tscore_Bucket_During_Rx.count()"
   ]
  },
  {
   "cell_type": "code",
   "execution_count": 12,
   "metadata": {},
   "outputs": [
    {
     "data": {
      "text/plain": [
       "Change_T_Score\n",
       "Improved       77\n",
       "No change    1299\n",
       "Unknown      1223\n",
       "Worsened      140\n",
       "Name: Change_T_Score, dtype: int64"
      ]
     },
     "execution_count": 12,
     "metadata": {},
     "output_type": "execute_result"
    }
   ],
   "source": [
    "data_obj_train.groupby([\"Change_T_Score\"]).Change_T_Score.count()"
   ]
  },
  {
   "cell_type": "code",
   "execution_count": 13,
   "metadata": {},
   "outputs": [
    {
     "data": {
      "text/plain": [
       "Change_Risk_Segment\n",
       "Improved       17\n",
       "No change     820\n",
       "Unknown      1802\n",
       "Worsened      100\n",
       "Name: Change_Risk_Segment, dtype: int64"
      ]
     },
     "execution_count": 13,
     "metadata": {},
     "output_type": "execute_result"
    }
   ],
   "source": [
    "data_obj_train.groupby([\"Change_Risk_Segment\"]).Change_Risk_Segment.count()"
   ]
  },
  {
   "cell_type": "markdown",
   "metadata": {},
   "source": [
    "#### We drop the two columns, because Count of Risks is a linear combination of all other Risk variables\n",
    "#### and Change in Risk Segment has about 65% missing values"
   ]
  },
  {
   "cell_type": "code",
   "execution_count": 14,
   "metadata": {},
   "outputs": [],
   "source": [
    "data_numeric_train = data_numeric_train.drop('Count_Of_Risks',axis=1)\n",
    "data_numeric_test = data_numeric_test.drop('Count_Of_Risks',axis=1)\n",
    "\n",
    "data_obj_train = data_obj_train.drop(['Change_Risk_Segment'],axis=1)\n",
    "\n",
    "data_obj_test = data_obj_test.drop(['Change_Risk_Segment'],axis=1)"
   ]
  },
  {
   "cell_type": "markdown",
   "metadata": {},
   "source": [
    "## Variable Treatment, Missing Values and Imputation"
   ]
  },
  {
   "cell_type": "markdown",
   "metadata": {},
   "source": [
    "### Scale Numerical Variable in both Train and Test sets"
   ]
  },
  {
   "cell_type": "code",
   "execution_count": 15,
   "metadata": {},
   "outputs": [],
   "source": [
    "\n",
    "from sklearn.preprocessing import RobustScaler\n",
    "\n",
    "transformer = RobustScaler().fit(data_numeric_train)\n",
    "data_numeric_train = transformer.transform(data_numeric_train)\n",
    "\n",
    "data_numeric_train = pd.DataFrame(data_numeric_train)\n",
    "data_numeric_train.columns = ['Dexa_Freq_During_Rx']\n",
    "data_numeric_train.index = indices_train"
   ]
  },
  {
   "cell_type": "code",
   "execution_count": 16,
   "metadata": {},
   "outputs": [
    {
     "data": {
      "text/html": [
       "<div>\n",
       "<style scoped>\n",
       "    .dataframe tbody tr th:only-of-type {\n",
       "        vertical-align: middle;\n",
       "    }\n",
       "\n",
       "    .dataframe tbody tr th {\n",
       "        vertical-align: top;\n",
       "    }\n",
       "\n",
       "    .dataframe thead th {\n",
       "        text-align: right;\n",
       "    }\n",
       "</style>\n",
       "<table border=\"1\" class=\"dataframe\">\n",
       "  <thead>\n",
       "    <tr style=\"text-align: right;\">\n",
       "      <th></th>\n",
       "      <th>Dexa_Freq_During_Rx</th>\n",
       "    </tr>\n",
       "  </thead>\n",
       "  <tbody>\n",
       "    <tr>\n",
       "      <th>count</th>\n",
       "      <td>2739.000000</td>\n",
       "    </tr>\n",
       "    <tr>\n",
       "      <th>mean</th>\n",
       "      <td>0.988317</td>\n",
       "    </tr>\n",
       "    <tr>\n",
       "      <th>std</th>\n",
       "      <td>2.766387</td>\n",
       "    </tr>\n",
       "    <tr>\n",
       "      <th>min</th>\n",
       "      <td>0.000000</td>\n",
       "    </tr>\n",
       "    <tr>\n",
       "      <th>25%</th>\n",
       "      <td>0.000000</td>\n",
       "    </tr>\n",
       "    <tr>\n",
       "      <th>50%</th>\n",
       "      <td>0.000000</td>\n",
       "    </tr>\n",
       "    <tr>\n",
       "      <th>75%</th>\n",
       "      <td>1.000000</td>\n",
       "    </tr>\n",
       "    <tr>\n",
       "      <th>max</th>\n",
       "      <td>48.666667</td>\n",
       "    </tr>\n",
       "  </tbody>\n",
       "</table>\n",
       "</div>"
      ],
      "text/plain": [
       "       Dexa_Freq_During_Rx\n",
       "count          2739.000000\n",
       "mean              0.988317\n",
       "std               2.766387\n",
       "min               0.000000\n",
       "25%               0.000000\n",
       "50%               0.000000\n",
       "75%               1.000000\n",
       "max              48.666667"
      ]
     },
     "execution_count": 16,
     "metadata": {},
     "output_type": "execute_result"
    }
   ],
   "source": [
    "data_numeric_train.describe()"
   ]
  },
  {
   "cell_type": "code",
   "execution_count": 17,
   "metadata": {},
   "outputs": [],
   "source": [
    "\n",
    "data_numeric_test = transformer.transform(data_numeric_test)\n",
    "\n",
    "data_numeric_test = pd.DataFrame(data_numeric_test)\n",
    "data_numeric_test.columns = ['Dexa_Freq_During_Rx']\n",
    "data_numeric_test.index = indices_test"
   ]
  },
  {
   "cell_type": "code",
   "execution_count": 18,
   "metadata": {},
   "outputs": [
    {
     "data": {
      "text/html": [
       "<div>\n",
       "<style scoped>\n",
       "    .dataframe tbody tr th:only-of-type {\n",
       "        vertical-align: middle;\n",
       "    }\n",
       "\n",
       "    .dataframe tbody tr th {\n",
       "        vertical-align: top;\n",
       "    }\n",
       "\n",
       "    .dataframe thead th {\n",
       "        text-align: right;\n",
       "    }\n",
       "</style>\n",
       "<table border=\"1\" class=\"dataframe\">\n",
       "  <thead>\n",
       "    <tr style=\"text-align: right;\">\n",
       "      <th></th>\n",
       "      <th>Dexa_Freq_During_Rx</th>\n",
       "    </tr>\n",
       "  </thead>\n",
       "  <tbody>\n",
       "    <tr>\n",
       "      <th>count</th>\n",
       "      <td>685.000000</td>\n",
       "    </tr>\n",
       "    <tr>\n",
       "      <th>mean</th>\n",
       "      <td>1.073479</td>\n",
       "    </tr>\n",
       "    <tr>\n",
       "      <th>std</th>\n",
       "      <td>2.484380</td>\n",
       "    </tr>\n",
       "    <tr>\n",
       "      <th>min</th>\n",
       "      <td>0.000000</td>\n",
       "    </tr>\n",
       "    <tr>\n",
       "      <th>25%</th>\n",
       "      <td>0.000000</td>\n",
       "    </tr>\n",
       "    <tr>\n",
       "      <th>50%</th>\n",
       "      <td>0.000000</td>\n",
       "    </tr>\n",
       "    <tr>\n",
       "      <th>75%</th>\n",
       "      <td>1.333333</td>\n",
       "    </tr>\n",
       "    <tr>\n",
       "      <th>max</th>\n",
       "      <td>29.333333</td>\n",
       "    </tr>\n",
       "  </tbody>\n",
       "</table>\n",
       "</div>"
      ],
      "text/plain": [
       "       Dexa_Freq_During_Rx\n",
       "count           685.000000\n",
       "mean              1.073479\n",
       "std               2.484380\n",
       "min               0.000000\n",
       "25%               0.000000\n",
       "50%               0.000000\n",
       "75%               1.333333\n",
       "max              29.333333"
      ]
     },
     "execution_count": 18,
     "metadata": {},
     "output_type": "execute_result"
    }
   ],
   "source": [
    "data_numeric_test.describe()"
   ]
  },
  {
   "cell_type": "markdown",
   "metadata": {},
   "source": [
    "### We save the columns that will be One Hot Encoded"
   ]
  },
  {
   "cell_type": "code",
   "execution_count": 19,
   "metadata": {},
   "outputs": [],
   "source": [
    "cols = [\"Gender\",\"Gluco_Record_Prior_Ntm\",\"Gluco_Record_During_Rx\",\"Dexa_During_Rx\",\"Frag_Frac_Prior_Ntm\",\n",
    "        \"Frag_Frac_During_Rx\",\"Adherent_Flag\",\"Race\",\"Ethnicity\",\"Region\",\"Age_Bucket\",\n",
    "        'Ntm_Specialist_Flag','Ntm_Speciality_Bucket',\"Risk_Segment_Prior_Ntm\",\"Tscore_Bucket_Prior_Ntm\",\n",
    "        \"Idn_Indicator\",\"Injectable_Experience_During_Rx\",\"Comorb_Personal_History_Of_Other_Diseases_And_Conditions\",\n",
    "        'Comorb_Encounter_For_Screening_For_Malignant_Neoplasms','Comorb_Encounter_For_Immunization',\n",
    "       'Comorb_Encntr_For_General_Exam_W_O_Complaint,_Susp_Or_Reprtd_Dx',\n",
    "       'Comorb_Vitamin_D_Deficiency','Comorb_Other_Joint_Disorder_Not_Elsewhere_Classified',\n",
    "       'Comorb_Encntr_For_Oth_Sp_Exam_W_O_Complaint_Suspected_Or_Reprtd_Dx','Comorb_Long_Term_Current_Drug_Therapy',\n",
    "        'Comorb_Dorsalgia','Comorb_Other_Disorders_Of_Bone_Density_And_Structure',\n",
    "       'Comorb_Disorders_of_lipoprotein_metabolism_and_other_lipidemias',\n",
    "       'Comorb_Osteoporosis_without_current_pathological_fracture','Comorb_Personal_history_of_malignant_neoplasm',\n",
    "       'Comorb_Gastro_esophageal_reflux_disease',\"Concom_Cephalosporins\",\n",
    "       'Concom_Cholesterol_And_Triglyceride_Regulating_Preparations','Concom_Narcotics', 'Concom_Systemic_Corticosteroids_Plain',\n",
    "       'Concom_Anti_Depressants_And_Mood_Stabilisers','Concom_Fluoroquinolones','Concom_Macrolides_And_Similar_Types',\n",
    "       'Concom_Broad_Spectrum_Penicillins', 'Concom_Anaesthetics_General',\n",
    "       'Concom_Viral_Vaccines', 'Risk_Type_1_Insulin_Dependent_Diabetes',\n",
    "       'Risk_Osteogenesis_Imperfecta', 'Risk_Rheumatoid_Arthritis',\"Risk_Untreated_Chronic_Hypogonadism\",\n",
    "       'Risk_Untreated_Chronic_Hyperthyroidism','Risk_Untreated_Early_Menopause',\n",
    "       'Risk_Patient_Parent_Fractured_Their_Hip', 'Risk_Smoking_Tobacco',\n",
    "       'Risk_Chronic_Malnutrition_Or_Malabsorption','Risk_Chronic_Liver_Disease', 'Risk_Family_History_Of_Osteoporosis',\n",
    "       'Risk_Low_Calcium_Intake', 'Risk_Vitamin_D_Insufficiency',\"Risk_Excessive_Thinness\",\n",
    "       'Risk_Poor_Health_Frailty','Risk_Hysterectomy_Oophorectomy', 'Risk_Estrogen_Deficiency',\n",
    "       'Risk_Immobilization', 'Risk_Recurring_Falls']"
   ]
  },
  {
   "cell_type": "code",
   "execution_count": 20,
   "metadata": {},
   "outputs": [],
   "source": [
    "from feature_engine.encoding import OneHotEncoder\n",
    "\n",
    "encoder = OneHotEncoder( variables=cols, drop_last=True)\n",
    "encoder.fit(data_obj_train)\n",
    "data_obj_train = encoder.transform(data_obj_train)\n",
    "\n",
    "data_obj_test = encoder.transform(data_obj_test)"
   ]
  },
  {
   "cell_type": "markdown",
   "metadata": {},
   "source": [
    "####   We 'onehot encoding' Ntm speciality variable. 'Unknown' category becomes variable. We change the 1 values of unknown category with np.nan  for all other speciality categories so that we can impute them later"
   ]
  },
  {
   "cell_type": "code",
   "execution_count": 21,
   "metadata": {},
   "outputs": [],
   "source": [
    "encoder = OneHotEncoder( variables=\"Ntm_Speciality\", drop_last=True)\n",
    "encoder.fit(data_obj_train)\n",
    "data_obj_train = encoder.transform(data_obj_train)\n",
    "\n",
    "data_obj_test = encoder.transform(data_obj_test)\n",
    "\n",
    "\n",
    "col = data_obj_train.columns[72:76]\n",
    "col=col.append(data_obj_train.columns[78:103])\n",
    "\n",
    "data_obj_train.loc[data_obj_train[\"Ntm_Speciality_Unknown\"]==1,col] = np.nan\n",
    "data_obj_train=data_obj_train.drop([\"Ntm_Speciality_Unknown\"],axis=1)\n",
    "\n",
    "\n",
    "col = data_obj_test.columns[72:76]\n",
    "col=col.append(data_obj_test.columns[78:103])\n",
    "data_obj_test.loc[data_obj_test[\"Ntm_Speciality_Unknown\"]==1,col] = np.nan\n",
    "data_obj_test=data_obj_test.drop([\"Ntm_Speciality_Unknown\"],axis=1)\n"
   ]
  },
  {
   "cell_type": "markdown",
   "metadata": {},
   "source": [
    "### We ordinal encode the following variables so as to impute the later"
   ]
  },
  {
   "cell_type": "code",
   "execution_count": 22,
   "metadata": {},
   "outputs": [
    {
     "data": {
      "text/plain": [
       "Tscore_Bucket_During_Rx\n",
       "0.0    711\n",
       "1.0    805\n",
       "Name: Tscore_Bucket_During_Rx, dtype: int64"
      ]
     },
     "execution_count": 22,
     "metadata": {},
     "output_type": "execute_result"
    }
   ],
   "source": [
    "from sklearn.preprocessing import OrdinalEncoder\n",
    "\n",
    "\n",
    "oe = OrdinalEncoder(categories=[['>-2.5','<=-2.5','Unknown']])\n",
    "oe.fit(data_obj_train[['Tscore_Bucket_During_Rx']])\n",
    "data_obj_train[['Tscore_Bucket_During_Rx']] = oe.transform(data_obj_train[['Tscore_Bucket_During_Rx']])\n",
    "\n",
    "data_obj_test[['Tscore_Bucket_During_Rx']] = oe.transform(data_obj_test[['Tscore_Bucket_During_Rx']])\n",
    "\n",
    "\n",
    "data_obj_train['Tscore_Bucket_During_Rx'] = data_obj_train.Tscore_Bucket_During_Rx.map({0:0,1:1,2:np.nan})\n",
    "data_obj_test['Tscore_Bucket_During_Rx'] = data_obj_test.Tscore_Bucket_During_Rx.map({0:0,1:1,2:np.nan})\n",
    "data_obj_train.groupby(['Tscore_Bucket_During_Rx']).Tscore_Bucket_During_Rx.count()"
   ]
  },
  {
   "cell_type": "code",
   "execution_count": 23,
   "metadata": {},
   "outputs": [
    {
     "data": {
      "text/plain": [
       "Change_T_Score\n",
       "0.0     140\n",
       "1.0    1299\n",
       "2.0      77\n",
       "Name: Change_T_Score, dtype: int64"
      ]
     },
     "execution_count": 23,
     "metadata": {},
     "output_type": "execute_result"
    }
   ],
   "source": [
    "oe = OrdinalEncoder(categories=[['Worsened','No change','Improved','Unknown']])\n",
    "oe.fit(data_obj_train[['Change_T_Score']])\n",
    "data_obj_train[['Change_T_Score']] = oe.transform(data_obj_train[['Change_T_Score']])\n",
    "\n",
    "data_obj_train['Change_T_Score'] = data_obj_train.Change_T_Score.map({0:0,1:1,2:2,3:np.nan})\n",
    "data_obj_test[['Change_T_Score']] = oe.transform(data_obj_test[['Change_T_Score']])\n",
    "\n",
    "data_obj_test['Change_T_Score'] = data_obj_test.Change_T_Score.map({0:0,1:1,2:2,3:np.nan})\n",
    "data_obj_train.groupby(['Change_T_Score']).Change_T_Score.count()"
   ]
  },
  {
   "cell_type": "code",
   "execution_count": 24,
   "metadata": {},
   "outputs": [
    {
     "data": {
      "text/plain": [
       "Risk_Segment_During_Rx\n",
       "0.0    753\n",
       "1.0    763\n",
       "Name: Risk_Segment_During_Rx, dtype: int64"
      ]
     },
     "execution_count": 24,
     "metadata": {},
     "output_type": "execute_result"
    }
   ],
   "source": [
    "oe = OrdinalEncoder(categories=[['VLR_LR','HR_VHR','Unknown']])\n",
    "oe.fit(data_obj_train[['Risk_Segment_During_Rx']])\n",
    "data_obj_train[['Risk_Segment_During_Rx']] = oe.transform(data_obj_train[['Risk_Segment_During_Rx']])\n",
    "data_obj_test[['Risk_Segment_During_Rx']] = oe.transform(data_obj_test[['Risk_Segment_During_Rx']])\n",
    "\n",
    "data_obj_test['Risk_Segment_During_Rx'] = data_obj_test.Risk_Segment_During_Rx.map({0:0,1:1,2:np.nan})\n",
    "\n",
    "data_obj_train['Risk_Segment_During_Rx'] = data_obj_train.Risk_Segment_During_Rx.map({0:0,1:1,2:np.nan})\n",
    "data_obj_train.groupby(['Risk_Segment_During_Rx']).Risk_Segment_During_Rx.count()"
   ]
  },
  {
   "cell_type": "markdown",
   "metadata": {},
   "source": [
    "## Imputation with KNNImpute method"
   ]
  },
  {
   "cell_type": "code",
   "execution_count": 25,
   "metadata": {},
   "outputs": [],
   "source": [
    "from sklearn.impute import KNNImputer\n",
    "\n",
    "imputer = KNNImputer(n_neighbors = 1)\n",
    "imputer.fit(data_obj_train)\n",
    "data_obj_train = pd.DataFrame(imputer.transform(data_obj_train),columns=data_obj_train.columns)\n",
    "\n",
    "data_obj_test = pd.DataFrame(imputer.transform(data_obj_test),columns=data_obj_test.columns)\n",
    "\n",
    "# we reset indices, because they are lost after imputation\n",
    "data_obj_train.index = indices_train\n",
    "data_obj_test.index = indices_test"
   ]
  },
  {
   "cell_type": "markdown",
   "metadata": {},
   "source": [
    "## We reorganise our dataset"
   ]
  },
  {
   "cell_type": "code",
   "execution_count": 26,
   "metadata": {},
   "outputs": [],
   "source": [
    "X_train = pd.concat([data_numeric_train,data_obj_train],axis=1)\n",
    "X_test = pd.concat([data_numeric_test,data_obj_test],axis=1,verify_integrity=True)"
   ]
  },
  {
   "cell_type": "code",
   "execution_count": 27,
   "metadata": {},
   "outputs": [
    {
     "name": "stdout",
     "output_type": "stream",
     "text": [
      "Train (2739, 103) (2739,)\n",
      "Test (685, 103) (685,)\n"
     ]
    }
   ],
   "source": [
    "print('Train', X_train.shape, y_train.shape)\n",
    "print('Test', X_test.shape, y_test.shape) "
   ]
  },
  {
   "cell_type": "code",
   "execution_count": 28,
   "metadata": {},
   "outputs": [
    {
     "data": {
      "text/html": [
       "<div>\n",
       "<style scoped>\n",
       "    .dataframe tbody tr th:only-of-type {\n",
       "        vertical-align: middle;\n",
       "    }\n",
       "\n",
       "    .dataframe tbody tr th {\n",
       "        vertical-align: top;\n",
       "    }\n",
       "\n",
       "    .dataframe thead th {\n",
       "        text-align: right;\n",
       "    }\n",
       "</style>\n",
       "<table border=\"1\" class=\"dataframe\">\n",
       "  <thead>\n",
       "    <tr style=\"text-align: right;\">\n",
       "      <th></th>\n",
       "      <th>Dexa_Freq_During_Rx</th>\n",
       "      <th>Risk_Segment_During_Rx</th>\n",
       "      <th>Tscore_Bucket_During_Rx</th>\n",
       "      <th>Change_T_Score</th>\n",
       "      <th>Gender_Female</th>\n",
       "      <th>Gluco_Record_Prior_Ntm_Y</th>\n",
       "      <th>Gluco_Record_During_Rx_N</th>\n",
       "      <th>Dexa_During_Rx_Y</th>\n",
       "      <th>Frag_Frac_Prior_Ntm_Y</th>\n",
       "      <th>Frag_Frac_During_Rx_N</th>\n",
       "      <th>...</th>\n",
       "      <th>Ntm_Speciality_PSYCHIATRY AND NEUROLOGY</th>\n",
       "      <th>Ntm_Speciality_PATHOLOGY</th>\n",
       "      <th>Ntm_Speciality_OTOLARYNGOLOGY</th>\n",
       "      <th>Ntm_Speciality_PULMONARY MEDICINE</th>\n",
       "      <th>Ntm_Speciality_PAIN MEDICINE</th>\n",
       "      <th>Ntm_Speciality_GASTROENTEROLOGY</th>\n",
       "      <th>Ntm_Speciality_ORTHOPEDICS</th>\n",
       "      <th>Ntm_Speciality_RADIOLOGY</th>\n",
       "      <th>Ntm_Speciality_PODIATRY</th>\n",
       "      <th>Ntm_Speciality_EMERGENCY MEDICINE</th>\n",
       "    </tr>\n",
       "  </thead>\n",
       "  <tbody>\n",
       "    <tr>\n",
       "      <th>445</th>\n",
       "      <td>1.0</td>\n",
       "      <td>1.0</td>\n",
       "      <td>1.0</td>\n",
       "      <td>2.0</td>\n",
       "      <td>1.0</td>\n",
       "      <td>1.0</td>\n",
       "      <td>1.0</td>\n",
       "      <td>1.0</td>\n",
       "      <td>1.0</td>\n",
       "      <td>1.0</td>\n",
       "      <td>...</td>\n",
       "      <td>0.0</td>\n",
       "      <td>0.0</td>\n",
       "      <td>0.0</td>\n",
       "      <td>0.0</td>\n",
       "      <td>0.0</td>\n",
       "      <td>0.0</td>\n",
       "      <td>0.0</td>\n",
       "      <td>0.0</td>\n",
       "      <td>0.0</td>\n",
       "      <td>0.0</td>\n",
       "    </tr>\n",
       "    <tr>\n",
       "      <th>2570</th>\n",
       "      <td>8.0</td>\n",
       "      <td>0.0</td>\n",
       "      <td>0.0</td>\n",
       "      <td>1.0</td>\n",
       "      <td>1.0</td>\n",
       "      <td>0.0</td>\n",
       "      <td>1.0</td>\n",
       "      <td>1.0</td>\n",
       "      <td>1.0</td>\n",
       "      <td>0.0</td>\n",
       "      <td>...</td>\n",
       "      <td>0.0</td>\n",
       "      <td>0.0</td>\n",
       "      <td>0.0</td>\n",
       "      <td>0.0</td>\n",
       "      <td>0.0</td>\n",
       "      <td>0.0</td>\n",
       "      <td>0.0</td>\n",
       "      <td>0.0</td>\n",
       "      <td>0.0</td>\n",
       "      <td>0.0</td>\n",
       "    </tr>\n",
       "    <tr>\n",
       "      <th>627</th>\n",
       "      <td>0.0</td>\n",
       "      <td>1.0</td>\n",
       "      <td>1.0</td>\n",
       "      <td>1.0</td>\n",
       "      <td>1.0</td>\n",
       "      <td>0.0</td>\n",
       "      <td>1.0</td>\n",
       "      <td>0.0</td>\n",
       "      <td>0.0</td>\n",
       "      <td>1.0</td>\n",
       "      <td>...</td>\n",
       "      <td>0.0</td>\n",
       "      <td>0.0</td>\n",
       "      <td>0.0</td>\n",
       "      <td>0.0</td>\n",
       "      <td>0.0</td>\n",
       "      <td>0.0</td>\n",
       "      <td>0.0</td>\n",
       "      <td>0.0</td>\n",
       "      <td>0.0</td>\n",
       "      <td>0.0</td>\n",
       "    </tr>\n",
       "    <tr>\n",
       "      <th>1785</th>\n",
       "      <td>0.0</td>\n",
       "      <td>1.0</td>\n",
       "      <td>1.0</td>\n",
       "      <td>1.0</td>\n",
       "      <td>1.0</td>\n",
       "      <td>0.0</td>\n",
       "      <td>0.0</td>\n",
       "      <td>0.0</td>\n",
       "      <td>1.0</td>\n",
       "      <td>0.0</td>\n",
       "      <td>...</td>\n",
       "      <td>0.0</td>\n",
       "      <td>0.0</td>\n",
       "      <td>0.0</td>\n",
       "      <td>0.0</td>\n",
       "      <td>0.0</td>\n",
       "      <td>0.0</td>\n",
       "      <td>0.0</td>\n",
       "      <td>0.0</td>\n",
       "      <td>0.0</td>\n",
       "      <td>0.0</td>\n",
       "    </tr>\n",
       "    <tr>\n",
       "      <th>909</th>\n",
       "      <td>3.0</td>\n",
       "      <td>1.0</td>\n",
       "      <td>1.0</td>\n",
       "      <td>0.0</td>\n",
       "      <td>1.0</td>\n",
       "      <td>0.0</td>\n",
       "      <td>1.0</td>\n",
       "      <td>1.0</td>\n",
       "      <td>1.0</td>\n",
       "      <td>1.0</td>\n",
       "      <td>...</td>\n",
       "      <td>0.0</td>\n",
       "      <td>0.0</td>\n",
       "      <td>0.0</td>\n",
       "      <td>0.0</td>\n",
       "      <td>0.0</td>\n",
       "      <td>0.0</td>\n",
       "      <td>0.0</td>\n",
       "      <td>0.0</td>\n",
       "      <td>0.0</td>\n",
       "      <td>0.0</td>\n",
       "    </tr>\n",
       "  </tbody>\n",
       "</table>\n",
       "<p>5 rows × 103 columns</p>\n",
       "</div>"
      ],
      "text/plain": [
       "      Dexa_Freq_During_Rx  Risk_Segment_During_Rx  Tscore_Bucket_During_Rx  \\\n",
       "445                   1.0                     1.0                      1.0   \n",
       "2570                  8.0                     0.0                      0.0   \n",
       "627                   0.0                     1.0                      1.0   \n",
       "1785                  0.0                     1.0                      1.0   \n",
       "909                   3.0                     1.0                      1.0   \n",
       "\n",
       "      Change_T_Score  Gender_Female  Gluco_Record_Prior_Ntm_Y  \\\n",
       "445              2.0            1.0                       1.0   \n",
       "2570             1.0            1.0                       0.0   \n",
       "627              1.0            1.0                       0.0   \n",
       "1785             1.0            1.0                       0.0   \n",
       "909              0.0            1.0                       0.0   \n",
       "\n",
       "      Gluco_Record_During_Rx_N  Dexa_During_Rx_Y  Frag_Frac_Prior_Ntm_Y  \\\n",
       "445                        1.0               1.0                    1.0   \n",
       "2570                       1.0               1.0                    1.0   \n",
       "627                        1.0               0.0                    0.0   \n",
       "1785                       0.0               0.0                    1.0   \n",
       "909                        1.0               1.0                    1.0   \n",
       "\n",
       "      Frag_Frac_During_Rx_N  ...  Ntm_Speciality_PSYCHIATRY AND NEUROLOGY  \\\n",
       "445                     1.0  ...                                      0.0   \n",
       "2570                    0.0  ...                                      0.0   \n",
       "627                     1.0  ...                                      0.0   \n",
       "1785                    0.0  ...                                      0.0   \n",
       "909                     1.0  ...                                      0.0   \n",
       "\n",
       "      Ntm_Speciality_PATHOLOGY  Ntm_Speciality_OTOLARYNGOLOGY  \\\n",
       "445                        0.0                            0.0   \n",
       "2570                       0.0                            0.0   \n",
       "627                        0.0                            0.0   \n",
       "1785                       0.0                            0.0   \n",
       "909                        0.0                            0.0   \n",
       "\n",
       "      Ntm_Speciality_PULMONARY MEDICINE  Ntm_Speciality_PAIN MEDICINE  \\\n",
       "445                                 0.0                           0.0   \n",
       "2570                                0.0                           0.0   \n",
       "627                                 0.0                           0.0   \n",
       "1785                                0.0                           0.0   \n",
       "909                                 0.0                           0.0   \n",
       "\n",
       "      Ntm_Speciality_GASTROENTEROLOGY  Ntm_Speciality_ORTHOPEDICS  \\\n",
       "445                               0.0                         0.0   \n",
       "2570                              0.0                         0.0   \n",
       "627                               0.0                         0.0   \n",
       "1785                              0.0                         0.0   \n",
       "909                               0.0                         0.0   \n",
       "\n",
       "      Ntm_Speciality_RADIOLOGY  Ntm_Speciality_PODIATRY  \\\n",
       "445                        0.0                      0.0   \n",
       "2570                       0.0                      0.0   \n",
       "627                        0.0                      0.0   \n",
       "1785                       0.0                      0.0   \n",
       "909                        0.0                      0.0   \n",
       "\n",
       "      Ntm_Speciality_EMERGENCY MEDICINE  \n",
       "445                                 0.0  \n",
       "2570                                0.0  \n",
       "627                                 0.0  \n",
       "1785                                0.0  \n",
       "909                                 0.0  \n",
       "\n",
       "[5 rows x 103 columns]"
      ]
     },
     "execution_count": 28,
     "metadata": {},
     "output_type": "execute_result"
    }
   ],
   "source": [
    "X_train.head()"
   ]
  },
  {
   "cell_type": "code",
   "execution_count": 29,
   "metadata": {},
   "outputs": [
    {
     "data": {
      "text/html": [
       "<div>\n",
       "<style scoped>\n",
       "    .dataframe tbody tr th:only-of-type {\n",
       "        vertical-align: middle;\n",
       "    }\n",
       "\n",
       "    .dataframe tbody tr th {\n",
       "        vertical-align: top;\n",
       "    }\n",
       "\n",
       "    .dataframe thead th {\n",
       "        text-align: right;\n",
       "    }\n",
       "</style>\n",
       "<table border=\"1\" class=\"dataframe\">\n",
       "  <thead>\n",
       "    <tr style=\"text-align: right;\">\n",
       "      <th></th>\n",
       "      <th>Dexa_Freq_During_Rx</th>\n",
       "      <th>Risk_Segment_During_Rx</th>\n",
       "      <th>Tscore_Bucket_During_Rx</th>\n",
       "      <th>Change_T_Score</th>\n",
       "      <th>Gender_Female</th>\n",
       "      <th>Gluco_Record_Prior_Ntm_Y</th>\n",
       "      <th>Gluco_Record_During_Rx_N</th>\n",
       "      <th>Dexa_During_Rx_Y</th>\n",
       "      <th>Frag_Frac_Prior_Ntm_Y</th>\n",
       "      <th>Frag_Frac_During_Rx_N</th>\n",
       "      <th>...</th>\n",
       "      <th>Ntm_Speciality_PSYCHIATRY AND NEUROLOGY</th>\n",
       "      <th>Ntm_Speciality_PATHOLOGY</th>\n",
       "      <th>Ntm_Speciality_OTOLARYNGOLOGY</th>\n",
       "      <th>Ntm_Speciality_PULMONARY MEDICINE</th>\n",
       "      <th>Ntm_Speciality_PAIN MEDICINE</th>\n",
       "      <th>Ntm_Speciality_GASTROENTEROLOGY</th>\n",
       "      <th>Ntm_Speciality_ORTHOPEDICS</th>\n",
       "      <th>Ntm_Speciality_RADIOLOGY</th>\n",
       "      <th>Ntm_Speciality_PODIATRY</th>\n",
       "      <th>Ntm_Speciality_EMERGENCY MEDICINE</th>\n",
       "    </tr>\n",
       "  </thead>\n",
       "  <tbody>\n",
       "    <tr>\n",
       "      <th>2543</th>\n",
       "      <td>0.0</td>\n",
       "      <td>1.0</td>\n",
       "      <td>1.0</td>\n",
       "      <td>1.0</td>\n",
       "      <td>1.0</td>\n",
       "      <td>0.0</td>\n",
       "      <td>1.0</td>\n",
       "      <td>0.0</td>\n",
       "      <td>0.0</td>\n",
       "      <td>1.0</td>\n",
       "      <td>...</td>\n",
       "      <td>0.0</td>\n",
       "      <td>0.0</td>\n",
       "      <td>0.0</td>\n",
       "      <td>0.0</td>\n",
       "      <td>0.0</td>\n",
       "      <td>0.0</td>\n",
       "      <td>0.0</td>\n",
       "      <td>0.0</td>\n",
       "      <td>0.0</td>\n",
       "      <td>0.0</td>\n",
       "    </tr>\n",
       "    <tr>\n",
       "      <th>2243</th>\n",
       "      <td>0.0</td>\n",
       "      <td>1.0</td>\n",
       "      <td>1.0</td>\n",
       "      <td>1.0</td>\n",
       "      <td>1.0</td>\n",
       "      <td>1.0</td>\n",
       "      <td>1.0</td>\n",
       "      <td>0.0</td>\n",
       "      <td>0.0</td>\n",
       "      <td>1.0</td>\n",
       "      <td>...</td>\n",
       "      <td>0.0</td>\n",
       "      <td>0.0</td>\n",
       "      <td>0.0</td>\n",
       "      <td>0.0</td>\n",
       "      <td>0.0</td>\n",
       "      <td>0.0</td>\n",
       "      <td>0.0</td>\n",
       "      <td>0.0</td>\n",
       "      <td>0.0</td>\n",
       "      <td>0.0</td>\n",
       "    </tr>\n",
       "    <tr>\n",
       "      <th>1673</th>\n",
       "      <td>0.0</td>\n",
       "      <td>1.0</td>\n",
       "      <td>1.0</td>\n",
       "      <td>1.0</td>\n",
       "      <td>1.0</td>\n",
       "      <td>0.0</td>\n",
       "      <td>1.0</td>\n",
       "      <td>0.0</td>\n",
       "      <td>0.0</td>\n",
       "      <td>1.0</td>\n",
       "      <td>...</td>\n",
       "      <td>0.0</td>\n",
       "      <td>0.0</td>\n",
       "      <td>0.0</td>\n",
       "      <td>0.0</td>\n",
       "      <td>0.0</td>\n",
       "      <td>0.0</td>\n",
       "      <td>0.0</td>\n",
       "      <td>0.0</td>\n",
       "      <td>0.0</td>\n",
       "      <td>0.0</td>\n",
       "    </tr>\n",
       "    <tr>\n",
       "      <th>551</th>\n",
       "      <td>0.0</td>\n",
       "      <td>1.0</td>\n",
       "      <td>1.0</td>\n",
       "      <td>1.0</td>\n",
       "      <td>1.0</td>\n",
       "      <td>0.0</td>\n",
       "      <td>0.0</td>\n",
       "      <td>0.0</td>\n",
       "      <td>0.0</td>\n",
       "      <td>1.0</td>\n",
       "      <td>...</td>\n",
       "      <td>0.0</td>\n",
       "      <td>0.0</td>\n",
       "      <td>0.0</td>\n",
       "      <td>0.0</td>\n",
       "      <td>0.0</td>\n",
       "      <td>0.0</td>\n",
       "      <td>0.0</td>\n",
       "      <td>0.0</td>\n",
       "      <td>0.0</td>\n",
       "      <td>0.0</td>\n",
       "    </tr>\n",
       "    <tr>\n",
       "      <th>2433</th>\n",
       "      <td>0.0</td>\n",
       "      <td>0.0</td>\n",
       "      <td>0.0</td>\n",
       "      <td>1.0</td>\n",
       "      <td>1.0</td>\n",
       "      <td>1.0</td>\n",
       "      <td>0.0</td>\n",
       "      <td>0.0</td>\n",
       "      <td>0.0</td>\n",
       "      <td>1.0</td>\n",
       "      <td>...</td>\n",
       "      <td>0.0</td>\n",
       "      <td>0.0</td>\n",
       "      <td>0.0</td>\n",
       "      <td>0.0</td>\n",
       "      <td>0.0</td>\n",
       "      <td>0.0</td>\n",
       "      <td>0.0</td>\n",
       "      <td>0.0</td>\n",
       "      <td>0.0</td>\n",
       "      <td>0.0</td>\n",
       "    </tr>\n",
       "  </tbody>\n",
       "</table>\n",
       "<p>5 rows × 103 columns</p>\n",
       "</div>"
      ],
      "text/plain": [
       "      Dexa_Freq_During_Rx  Risk_Segment_During_Rx  Tscore_Bucket_During_Rx  \\\n",
       "2543                  0.0                     1.0                      1.0   \n",
       "2243                  0.0                     1.0                      1.0   \n",
       "1673                  0.0                     1.0                      1.0   \n",
       "551                   0.0                     1.0                      1.0   \n",
       "2433                  0.0                     0.0                      0.0   \n",
       "\n",
       "      Change_T_Score  Gender_Female  Gluco_Record_Prior_Ntm_Y  \\\n",
       "2543             1.0            1.0                       0.0   \n",
       "2243             1.0            1.0                       1.0   \n",
       "1673             1.0            1.0                       0.0   \n",
       "551              1.0            1.0                       0.0   \n",
       "2433             1.0            1.0                       1.0   \n",
       "\n",
       "      Gluco_Record_During_Rx_N  Dexa_During_Rx_Y  Frag_Frac_Prior_Ntm_Y  \\\n",
       "2543                       1.0               0.0                    0.0   \n",
       "2243                       1.0               0.0                    0.0   \n",
       "1673                       1.0               0.0                    0.0   \n",
       "551                        0.0               0.0                    0.0   \n",
       "2433                       0.0               0.0                    0.0   \n",
       "\n",
       "      Frag_Frac_During_Rx_N  ...  Ntm_Speciality_PSYCHIATRY AND NEUROLOGY  \\\n",
       "2543                    1.0  ...                                      0.0   \n",
       "2243                    1.0  ...                                      0.0   \n",
       "1673                    1.0  ...                                      0.0   \n",
       "551                     1.0  ...                                      0.0   \n",
       "2433                    1.0  ...                                      0.0   \n",
       "\n",
       "      Ntm_Speciality_PATHOLOGY  Ntm_Speciality_OTOLARYNGOLOGY  \\\n",
       "2543                       0.0                            0.0   \n",
       "2243                       0.0                            0.0   \n",
       "1673                       0.0                            0.0   \n",
       "551                        0.0                            0.0   \n",
       "2433                       0.0                            0.0   \n",
       "\n",
       "      Ntm_Speciality_PULMONARY MEDICINE  Ntm_Speciality_PAIN MEDICINE  \\\n",
       "2543                                0.0                           0.0   \n",
       "2243                                0.0                           0.0   \n",
       "1673                                0.0                           0.0   \n",
       "551                                 0.0                           0.0   \n",
       "2433                                0.0                           0.0   \n",
       "\n",
       "      Ntm_Speciality_GASTROENTEROLOGY  Ntm_Speciality_ORTHOPEDICS  \\\n",
       "2543                              0.0                         0.0   \n",
       "2243                              0.0                         0.0   \n",
       "1673                              0.0                         0.0   \n",
       "551                               0.0                         0.0   \n",
       "2433                              0.0                         0.0   \n",
       "\n",
       "      Ntm_Speciality_RADIOLOGY  Ntm_Speciality_PODIATRY  \\\n",
       "2543                       0.0                      0.0   \n",
       "2243                       0.0                      0.0   \n",
       "1673                       0.0                      0.0   \n",
       "551                        0.0                      0.0   \n",
       "2433                       0.0                      0.0   \n",
       "\n",
       "      Ntm_Speciality_EMERGENCY MEDICINE  \n",
       "2543                                0.0  \n",
       "2243                                0.0  \n",
       "1673                                0.0  \n",
       "551                                 0.0  \n",
       "2433                                0.0  \n",
       "\n",
       "[5 rows x 103 columns]"
      ]
     },
     "execution_count": 29,
     "metadata": {},
     "output_type": "execute_result"
    }
   ],
   "source": [
    "X_test.head()"
   ]
  },
  {
   "cell_type": "code",
   "execution_count": null,
   "metadata": {},
   "outputs": [],
   "source": []
  },
  {
   "cell_type": "code",
   "execution_count": null,
   "metadata": {},
   "outputs": [],
   "source": []
  },
  {
   "cell_type": "code",
   "execution_count": null,
   "metadata": {},
   "outputs": [],
   "source": []
  },
  {
   "cell_type": "code",
   "execution_count": null,
   "metadata": {},
   "outputs": [],
   "source": []
  }
 ],
 "metadata": {
  "kernelspec": {
   "display_name": "Python 3",
   "language": "python",
   "name": "python3"
  },
  "language_info": {
   "codemirror_mode": {
    "name": "ipython",
    "version": 3
   },
   "file_extension": ".py",
   "mimetype": "text/x-python",
   "name": "python",
   "nbconvert_exporter": "python",
   "pygments_lexer": "ipython3",
   "version": "3.8.5"
  }
 },
 "nbformat": 4,
 "nbformat_minor": 4
}
